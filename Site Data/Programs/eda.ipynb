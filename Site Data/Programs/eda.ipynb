{
 "cells": [
  {
   "cell_type": "code",
   "execution_count": 8,
   "metadata": {},
   "outputs": [],
   "source": [
    "import pandas as pd\n",
    "pd.set_option(\"display.max_rows\",500)"
   ]
  },
  {
   "cell_type": "code",
   "execution_count": 3,
   "metadata": {},
   "outputs": [
    {
     "data": {
      "text/html": [
       "<div>\n",
       "<style scoped>\n",
       "    .dataframe tbody tr th:only-of-type {\n",
       "        vertical-align: middle;\n",
       "    }\n",
       "\n",
       "    .dataframe tbody tr th {\n",
       "        vertical-align: top;\n",
       "    }\n",
       "\n",
       "    .dataframe thead th {\n",
       "        text-align: right;\n",
       "    }\n",
       "</style>\n",
       "<table border=\"1\" class=\"dataframe\">\n",
       "  <thead>\n",
       "    <tr style=\"text-align: right;\">\n",
       "      <th></th>\n",
       "      <th>data</th>\n",
       "      <th>url</th>\n",
       "    </tr>\n",
       "  </thead>\n",
       "  <tbody>\n",
       "    <tr>\n",
       "      <th>0</th>\n",
       "      <td>Employability quotient The key focus of the CG...</td>\n",
       "      <td>http://mgmits.ac.in/placement/career-guidance-...</td>\n",
       "    </tr>\n",
       "    <tr>\n",
       "      <th>1</th>\n",
       "      <td>For 2021 passing out batch, 326 offers as on J...</td>\n",
       "      <td>http://mgmits.ac.in/placement/placement-gallery/</td>\n",
       "    </tr>\n",
       "    <tr>\n",
       "      <th>2</th>\n",
       "      <td>A premier engineering college in the state, lo...</td>\n",
       "      <td>http://mgmits.ac.in/home</td>\n",
       "    </tr>\n",
       "    <tr>\n",
       "      <th>3</th>\n",
       "      <td>PLACEMENT STATISTICS Batch of 2022 Batch of 20...</td>\n",
       "      <td>http://mgmits.ac.in/placement/placement-statis...</td>\n",
       "    </tr>\n",
       "    <tr>\n",
       "      <th>4</th>\n",
       "      <td>Individual Development Plan (IDP) Thepurpose o...</td>\n",
       "      <td>http://mgmits.ac.in/idp-2/</td>\n",
       "    </tr>\n",
       "  </tbody>\n",
       "</table>\n",
       "</div>"
      ],
      "text/plain": [
       "                                                data  \\\n",
       "0  Employability quotient The key focus of the CG...   \n",
       "1  For 2021 passing out batch, 326 offers as on J...   \n",
       "2  A premier engineering college in the state, lo...   \n",
       "3  PLACEMENT STATISTICS Batch of 2022 Batch of 20...   \n",
       "4  Individual Development Plan (IDP) Thepurpose o...   \n",
       "\n",
       "                                                 url  \n",
       "0  http://mgmits.ac.in/placement/career-guidance-...  \n",
       "1   http://mgmits.ac.in/placement/placement-gallery/  \n",
       "2                           http://mgmits.ac.in/home  \n",
       "3  http://mgmits.ac.in/placement/placement-statis...  \n",
       "4                         http://mgmits.ac.in/idp-2/  "
      ]
     },
     "execution_count": 3,
     "metadata": {},
     "output_type": "execute_result"
    }
   ],
   "source": [
    "data = pd.read_csv(\"../data.csv\")\n",
    "data.head()"
   ]
  },
  {
   "cell_type": "code",
   "execution_count": 5,
   "metadata": {},
   "outputs": [
    {
     "data": {
      "text/html": [
       "<div>\n",
       "<style scoped>\n",
       "    .dataframe tbody tr th:only-of-type {\n",
       "        vertical-align: middle;\n",
       "    }\n",
       "\n",
       "    .dataframe tbody tr th {\n",
       "        vertical-align: top;\n",
       "    }\n",
       "\n",
       "    .dataframe thead th {\n",
       "        text-align: right;\n",
       "    }\n",
       "</style>\n",
       "<table border=\"1\" class=\"dataframe\">\n",
       "  <thead>\n",
       "    <tr style=\"text-align: right;\">\n",
       "      <th></th>\n",
       "      <th>data</th>\n",
       "      <th>url</th>\n",
       "      <th>len</th>\n",
       "    </tr>\n",
       "  </thead>\n",
       "  <tbody>\n",
       "    <tr>\n",
       "      <th>0</th>\n",
       "      <td>Employability quotient The key focus of the CG...</td>\n",
       "      <td>http://mgmits.ac.in/placement/career-guidance-...</td>\n",
       "      <td>1752</td>\n",
       "    </tr>\n",
       "    <tr>\n",
       "      <th>1</th>\n",
       "      <td>For 2021 passing out batch, 326 offers as on J...</td>\n",
       "      <td>http://mgmits.ac.in/placement/placement-gallery/</td>\n",
       "      <td>95</td>\n",
       "    </tr>\n",
       "    <tr>\n",
       "      <th>2</th>\n",
       "      <td>A premier engineering college in the state, lo...</td>\n",
       "      <td>http://mgmits.ac.in/home</td>\n",
       "      <td>4861</td>\n",
       "    </tr>\n",
       "    <tr>\n",
       "      <th>3</th>\n",
       "      <td>PLACEMENT STATISTICS Batch of 2022 Batch of 20...</td>\n",
       "      <td>http://mgmits.ac.in/placement/placement-statis...</td>\n",
       "      <td>83</td>\n",
       "    </tr>\n",
       "    <tr>\n",
       "      <th>4</th>\n",
       "      <td>Individual Development Plan (IDP) Thepurpose o...</td>\n",
       "      <td>http://mgmits.ac.in/idp-2/</td>\n",
       "      <td>701</td>\n",
       "    </tr>\n",
       "  </tbody>\n",
       "</table>\n",
       "</div>"
      ],
      "text/plain": [
       "                                                data  \\\n",
       "0  Employability quotient The key focus of the CG...   \n",
       "1  For 2021 passing out batch, 326 offers as on J...   \n",
       "2  A premier engineering college in the state, lo...   \n",
       "3  PLACEMENT STATISTICS Batch of 2022 Batch of 20...   \n",
       "4  Individual Development Plan (IDP) Thepurpose o...   \n",
       "\n",
       "                                                 url   len  \n",
       "0  http://mgmits.ac.in/placement/career-guidance-...  1752  \n",
       "1   http://mgmits.ac.in/placement/placement-gallery/    95  \n",
       "2                           http://mgmits.ac.in/home  4861  \n",
       "3  http://mgmits.ac.in/placement/placement-statis...    83  \n",
       "4                         http://mgmits.ac.in/idp-2/   701  "
      ]
     },
     "execution_count": 5,
     "metadata": {},
     "output_type": "execute_result"
    }
   ],
   "source": [
    "data[\"len\"] = data.data.map(lambda x : len(x))\n",
    "data.head()"
   ]
  },
  {
   "cell_type": "code",
   "execution_count": 16,
   "metadata": {},
   "outputs": [
    {
     "data": {
      "text/plain": [
       "data         Our major recruiters\n",
       "url     http://mgmits.ac.in/nisp/\n",
       "len                            20\n",
       "Name: 11, dtype: object"
      ]
     },
     "execution_count": 16,
     "metadata": {},
     "output_type": "execute_result"
    }
   ],
   "source": [
    "data.iloc[11]"
   ]
  },
  {
   "cell_type": "code",
   "execution_count": 11,
   "metadata": {},
   "outputs": [
    {
     "data": {
      "text/plain": [
       "72       20\n",
       "71       20\n",
       "11       20\n",
       "51       20\n",
       "62       20\n",
       "73       20\n",
       "75       20\n",
       "74       20\n",
       "34       20\n",
       "14       36\n",
       "91       39\n",
       "92       42\n",
       "57       42\n",
       "78       42\n",
       "82       47\n",
       "44       50\n",
       "24       55\n",
       "85       56\n",
       "3        83\n",
       "33       86\n",
       "15       89\n",
       "61       94\n",
       "1        95\n",
       "18      102\n",
       "48      107\n",
       "19      114\n",
       "45      160\n",
       "55      189\n",
       "63      203\n",
       "70      210\n",
       "17      220\n",
       "21      220\n",
       "65      226\n",
       "58      238\n",
       "52      284\n",
       "13      292\n",
       "88      377\n",
       "67      391\n",
       "20      438\n",
       "43      445\n",
       "81      447\n",
       "35      558\n",
       "60      562\n",
       "16      597\n",
       "89      609\n",
       "66      623\n",
       "25      689\n",
       "56      694\n",
       "4       701\n",
       "79      810\n",
       "27      849\n",
       "23      867\n",
       "80      890\n",
       "22      941\n",
       "76      946\n",
       "46     1139\n",
       "83     1173\n",
       "77     1194\n",
       "95     1212\n",
       "90     1214\n",
       "87     1219\n",
       "38     1258\n",
       "59     1370\n",
       "84     1403\n",
       "32     1515\n",
       "69     1569\n",
       "64     1608\n",
       "54     1711\n",
       "0      1752\n",
       "36     1790\n",
       "30     1880\n",
       "50     2036\n",
       "94     2202\n",
       "26     2252\n",
       "86     2609\n",
       "39     2857\n",
       "93     3282\n",
       "28     3288\n",
       "5      3557\n",
       "53     4140\n",
       "37     4213\n",
       "2      4861\n",
       "6      4954\n",
       "41     5187\n",
       "68     5286\n",
       "10     6162\n",
       "29     6166\n",
       "40     6201\n",
       "42     6376\n",
       "7      6406\n",
       "9      9595\n",
       "12    10744\n",
       "8     19086\n",
       "49    21128\n",
       "31    39872\n",
       "47    59512\n",
       "Name: len, dtype: int64"
      ]
     },
     "execution_count": 11,
     "metadata": {},
     "output_type": "execute_result"
    }
   ],
   "source": [
    "data.len.sort_values(ascending=True)"
   ]
  },
  {
   "cell_type": "code",
   "execution_count": null,
   "metadata": {},
   "outputs": [],
   "source": []
  }
 ],
 "metadata": {
  "interpreter": {
   "hash": "ba8a2f979b76317ccf93e467e94d1dd25a4d448df8fe3a724a905e71adb08bc7"
  },
  "kernelspec": {
   "display_name": "Python 3.8.5 64-bit ('ds': conda)",
   "language": "python",
   "name": "python3"
  },
  "language_info": {
   "codemirror_mode": {
    "name": "ipython",
    "version": 3
   },
   "file_extension": ".py",
   "mimetype": "text/x-python",
   "name": "python",
   "nbconvert_exporter": "python",
   "pygments_lexer": "ipython3",
   "version": "3.8.5"
  },
  "orig_nbformat": 4
 },
 "nbformat": 4,
 "nbformat_minor": 2
}
