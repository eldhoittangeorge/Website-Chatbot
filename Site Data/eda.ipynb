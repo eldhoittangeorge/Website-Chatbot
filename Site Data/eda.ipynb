{
 "cells": [
  {
   "cell_type": "code",
   "execution_count": 16,
   "metadata": {},
   "outputs": [],
   "source": [
    "import pandas as pd\n",
    "import os\n",
    "pd.set_option(\"display.max_rows\",300)"
   ]
  },
  {
   "cell_type": "code",
   "execution_count": 3,
   "metadata": {},
   "outputs": [
    {
     "data": {
      "text/html": [
       "<div>\n",
       "<style scoped>\n",
       "    .dataframe tbody tr th:only-of-type {\n",
       "        vertical-align: middle;\n",
       "    }\n",
       "\n",
       "    .dataframe tbody tr th {\n",
       "        vertical-align: top;\n",
       "    }\n",
       "\n",
       "    .dataframe thead th {\n",
       "        text-align: right;\n",
       "    }\n",
       "</style>\n",
       "<table border=\"1\" class=\"dataframe\">\n",
       "  <thead>\n",
       "    <tr style=\"text-align: right;\">\n",
       "      <th></th>\n",
       "      <th>data</th>\n",
       "      <th>url</th>\n",
       "    </tr>\n",
       "  </thead>\n",
       "  <tbody>\n",
       "    <tr>\n",
       "      <th>0</th>\n",
       "      <td>A premier engineering college in the state, lo...</td>\n",
       "      <td>http://mgmits.ac.in/home</td>\n",
       "    </tr>\n",
       "    <tr>\n",
       "      <th>1</th>\n",
       "      <td>DEPARTMENT OF Basic Science and Humanities Dep...</td>\n",
       "      <td>http://mgmits.ac.in/departments/basic-science-...</td>\n",
       "    </tr>\n",
       "    <tr>\n",
       "      <th>2</th>\n",
       "      <td>PLACEMENT STATISTICS Batch of 2021 Batch of 20...</td>\n",
       "      <td>http://mgmits.ac.in/placement/placement-statis...</td>\n",
       "    </tr>\n",
       "    <tr>\n",
       "      <th>3</th>\n",
       "      <td>DEPARTMENT OF Mechanical Engineering Departmen...</td>\n",
       "      <td>http://mgmits.ac.in/departments/mechanical-eng...</td>\n",
       "    </tr>\n",
       "    <tr>\n",
       "      <th>4</th>\n",
       "      <td>DEPARTMENT OF Electrical and Electronics Depar...</td>\n",
       "      <td>http://mgmits.ac.in/departments/electrical-and...</td>\n",
       "    </tr>\n",
       "  </tbody>\n",
       "</table>\n",
       "</div>"
      ],
      "text/plain": [
       "                                                data  \\\n",
       "0  A premier engineering college in the state, lo...   \n",
       "1  DEPARTMENT OF Basic Science and Humanities Dep...   \n",
       "2  PLACEMENT STATISTICS Batch of 2021 Batch of 20...   \n",
       "3  DEPARTMENT OF Mechanical Engineering Departmen...   \n",
       "4  DEPARTMENT OF Electrical and Electronics Depar...   \n",
       "\n",
       "                                                 url  \n",
       "0                           http://mgmits.ac.in/home  \n",
       "1  http://mgmits.ac.in/departments/basic-science-...  \n",
       "2  http://mgmits.ac.in/placement/placement-statis...  \n",
       "3  http://mgmits.ac.in/departments/mechanical-eng...  \n",
       "4  http://mgmits.ac.in/departments/electrical-and...  "
      ]
     },
     "execution_count": 3,
     "metadata": {},
     "output_type": "execute_result"
    }
   ],
   "source": [
    "data = pd.read_csv(\"data.csv\")\n",
    "data.head()"
   ]
  },
  {
   "cell_type": "code",
   "execution_count": 5,
   "metadata": {},
   "outputs": [],
   "source": [
    "data[\"len\"] = data.data.map(lambda x : len(x))\n"
   ]
  },
  {
   "cell_type": "code",
   "execution_count": 25,
   "metadata": {},
   "outputs": [
    {
     "data": {
      "text/plain": [
       "'http://mgmits.ac.in/mits/quality-policy/nbanaac/'"
      ]
     },
     "execution_count": 25,
     "metadata": {},
     "output_type": "execute_result"
    }
   ],
   "source": [
    "data.iloc[10].url"
   ]
  },
  {
   "cell_type": "code",
   "execution_count": 17,
   "metadata": {},
   "outputs": [
    {
     "data": {
      "text/plain": [
       "79       20\n",
       "52       20\n",
       "63       20\n",
       "72       20\n",
       "38       20\n",
       "13       20\n",
       "82       20\n",
       "9        20\n",
       "10       20\n",
       "11       36\n",
       "93       39\n",
       "76       42\n",
       "47       42\n",
       "91       42\n",
       "77       47\n",
       "44       50\n",
       "24       55\n",
       "86       56\n",
       "2        69\n",
       "30       86\n",
       "16       89\n",
       "61       94\n",
       "69       95\n",
       "18      102\n",
       "50      107\n",
       "15      114\n",
       "43      160\n",
       "56      189\n",
       "62      203\n",
       "73      210\n",
       "19      220\n",
       "22      220\n",
       "64      226\n",
       "53      238\n",
       "51      284\n",
       "12      292\n",
       "88      377\n",
       "67      391\n",
       "17      438\n",
       "36      445\n",
       "81      447\n",
       "34      558\n",
       "58      562\n",
       "14      597\n",
       "89      609\n",
       "65      623\n",
       "25      689\n",
       "54      694\n",
       "71      701\n",
       "78      810\n",
       "27      849\n",
       "20      867\n",
       "80      890\n",
       "21      941\n",
       "75      946\n",
       "42     1139\n",
       "85     1173\n",
       "74     1194\n",
       "95     1212\n",
       "90     1214\n",
       "84     1219\n",
       "33     1258\n",
       "59     1370\n",
       "87     1403\n",
       "31     1515\n",
       "68     1569\n",
       "60     1608\n",
       "57     1711\n",
       "70     1752\n",
       "37     1790\n",
       "28     1880\n",
       "48     2036\n",
       "92     2202\n",
       "23     2252\n",
       "83     2609\n",
       "40     2857\n",
       "94     3282\n",
       "29     3288\n",
       "6      3557\n",
       "55     4140\n",
       "35     4213\n",
       "0      4861\n",
       "1      4954\n",
       "41     5187\n",
       "66     5286\n",
       "8      6162\n",
       "26     6166\n",
       "39     6201\n",
       "45     6376\n",
       "3      6406\n",
       "4      9595\n",
       "7     10744\n",
       "5     19086\n",
       "46    21128\n",
       "32    39872\n",
       "49    59512\n",
       "Name: len, dtype: int64"
      ]
     },
     "execution_count": 17,
     "metadata": {},
     "output_type": "execute_result"
    }
   ],
   "source": [
    "data.len.sort_values(ascending=True)"
   ]
  }
 ],
 "metadata": {
  "interpreter": {
   "hash": "ba8a2f979b76317ccf93e467e94d1dd25a4d448df8fe3a724a905e71adb08bc7"
  },
  "kernelspec": {
   "display_name": "Python 3.8.5 64-bit ('ds': conda)",
   "language": "python",
   "name": "python3"
  },
  "language_info": {
   "codemirror_mode": {
    "name": "ipython",
    "version": 3
   },
   "file_extension": ".py",
   "mimetype": "text/x-python",
   "name": "python",
   "nbconvert_exporter": "python",
   "pygments_lexer": "ipython3",
   "version": "3.8.5"
  },
  "orig_nbformat": 4
 },
 "nbformat": 4,
 "nbformat_minor": 2
}
