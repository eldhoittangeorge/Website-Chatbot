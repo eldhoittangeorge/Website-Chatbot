{
 "cells": [
  {
   "cell_type": "code",
   "execution_count": 7,
   "metadata": {},
   "outputs": [],
   "source": [
    "import pandas as pd"
   ]
  },
  {
   "cell_type": "code",
   "execution_count": 3,
   "metadata": {},
   "outputs": [
    {
     "data": {
      "text/html": [
       "<div>\n",
       "<style scoped>\n",
       "    .dataframe tbody tr th:only-of-type {\n",
       "        vertical-align: middle;\n",
       "    }\n",
       "\n",
       "    .dataframe tbody tr th {\n",
       "        vertical-align: top;\n",
       "    }\n",
       "\n",
       "    .dataframe thead th {\n",
       "        text-align: right;\n",
       "    }\n",
       "</style>\n",
       "<table border=\"1\" class=\"dataframe\">\n",
       "  <thead>\n",
       "    <tr style=\"text-align: right;\">\n",
       "      <th></th>\n",
       "      <th>Question</th>\n",
       "      <th>Answer</th>\n",
       "      <th>Source</th>\n",
       "      <th>Metadata</th>\n",
       "    </tr>\n",
       "  </thead>\n",
       "  <tbody>\n",
       "    <tr>\n",
       "      <th>0</th>\n",
       "      <td>Do you get hurt?</td>\n",
       "      <td>I don't have a body.</td>\n",
       "      <td>qna_chitchat_Professional</td>\n",
       "      <td>editorial:chitchat</td>\n",
       "    </tr>\n",
       "    <tr>\n",
       "      <th>1</th>\n",
       "      <td>Do you have fingers?</td>\n",
       "      <td>I don't have a body.</td>\n",
       "      <td>qna_chitchat_Professional</td>\n",
       "      <td>editorial:chitchat</td>\n",
       "    </tr>\n",
       "    <tr>\n",
       "      <th>2</th>\n",
       "      <td>Do you ever breathe</td>\n",
       "      <td>I don't have a body.</td>\n",
       "      <td>qna_chitchat_Professional</td>\n",
       "      <td>editorial:chitchat</td>\n",
       "    </tr>\n",
       "    <tr>\n",
       "      <th>3</th>\n",
       "      <td>Do you masticate?</td>\n",
       "      <td>I don't have a body.</td>\n",
       "      <td>qna_chitchat_Professional</td>\n",
       "      <td>editorial:chitchat</td>\n",
       "    </tr>\n",
       "    <tr>\n",
       "      <th>4</th>\n",
       "      <td>Can you throw up?</td>\n",
       "      <td>I don't have a body.</td>\n",
       "      <td>qna_chitchat_Professional</td>\n",
       "      <td>editorial:chitchat</td>\n",
       "    </tr>\n",
       "  </tbody>\n",
       "</table>\n",
       "</div>"
      ],
      "text/plain": [
       "               Question                Answer                     Source  \\\n",
       "0      Do you get hurt?  I don't have a body.  qna_chitchat_Professional   \n",
       "1  Do you have fingers?  I don't have a body.  qna_chitchat_Professional   \n",
       "2   Do you ever breathe  I don't have a body.  qna_chitchat_Professional   \n",
       "3     Do you masticate?  I don't have a body.  qna_chitchat_Professional   \n",
       "4     Can you throw up?  I don't have a body.  qna_chitchat_Professional   \n",
       "\n",
       "             Metadata  \n",
       "0  editorial:chitchat  \n",
       "1  editorial:chitchat  \n",
       "2  editorial:chitchat  \n",
       "3  editorial:chitchat  \n",
       "4  editorial:chitchat  "
      ]
     },
     "execution_count": 3,
     "metadata": {},
     "output_type": "execute_result"
    }
   ],
   "source": [
    "data = pd.read_csv(\"Data\\qna_chitchat_professional.tsv\", sep=\"\\t\")\n",
    "data.head()"
   ]
  },
  {
   "cell_type": "code",
   "execution_count": 8,
   "metadata": {},
   "outputs": [],
   "source": [
    "req_data = data[[\"Question\", \"Answer\"]]"
   ]
  },
  {
   "cell_type": "code",
   "execution_count": 10,
   "metadata": {},
   "outputs": [],
   "source": [
    "req_data.to_csv(\"Data/data.csv\", index=False)"
   ]
  }
 ],
 "metadata": {
  "interpreter": {
   "hash": "b5d4274ebb9180454c804b5ee419348493c013ff5d68b712df2e1ca9accf6ce7"
  },
  "kernelspec": {
   "display_name": "Python 3.8.11 64-bit ('ds': conda)",
   "language": "python",
   "name": "python3"
  },
  "language_info": {
   "codemirror_mode": {
    "name": "ipython",
    "version": 3
   },
   "file_extension": ".py",
   "mimetype": "text/x-python",
   "name": "python",
   "nbconvert_exporter": "python",
   "pygments_lexer": "ipython3",
   "version": "3.8.11"
  },
  "orig_nbformat": 4
 },
 "nbformat": 4,
 "nbformat_minor": 2
}
