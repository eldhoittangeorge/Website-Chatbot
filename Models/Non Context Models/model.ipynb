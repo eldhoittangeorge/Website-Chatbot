{
 "cells": [
  {
   "cell_type": "code",
   "execution_count": 2,
   "metadata": {},
   "outputs": [],
   "source": [
    "import pandas as pd\n",
    "from transformers import AutoTokenizer, AutoModel\n",
    "import torch\n",
    "from sentence_transformers import SentenceTransformer, util\n",
    "import numpy as np\n",
    "#import faiss"
   ]
  },
  {
   "cell_type": "code",
   "execution_count": 3,
   "metadata": {},
   "outputs": [],
   "source": [
    "data = pd.read_csv(\"Data/data.csv\")"
   ]
  },
  {
   "cell_type": "code",
   "execution_count": 7,
   "metadata": {},
   "outputs": [],
   "source": [
    "tokenizer = AutoTokenizer.from_pretrained('sentence-transformers/paraphrase-albert-small-v2')\n",
    "model = AutoModel.from_pretrained('sentence-transformers/paraphrase-albert-small-v2')"
   ]
  },
  {
   "cell_type": "code",
   "execution_count": 6,
   "metadata": {},
   "outputs": [],
   "source": [
    "def mean_pooling(model_output, attention_mask):\n",
    "    token_embeddings = model_output[0]\n",
    "    input_mask_expanded = attention_mask.unsqueeze(-1).expand(token_embeddings.size()).float()\n",
    "    return torch.sum(token_embeddings * input_mask_expanded, 1) / torch.clamp(input_mask_expanded.sum(1), min=1e-9)"
   ]
  },
  {
   "cell_type": "code",
   "execution_count": 5,
   "metadata": {},
   "outputs": [],
   "source": [
    "def create_embedding(data):\n",
    "    encoded_input = tokenizer(list(data), padding=True, truncation=True, return_tensors=\"pt\")\n",
    "    with torch.no_grad():\n",
    "        model_output = model(**encoded_input)\n",
    "    sentence_embedding = mean_pooling(model_output, encoded_input['attention_mask'])\n",
    "\n",
    "    #Uncomment if using faiss\n",
    "    # sentence_embedding = sentence_embedding.numpy()\n",
    "\n",
    "    return sentence_embedding"
   ]
  },
  {
   "cell_type": "code",
   "execution_count": 6,
   "metadata": {},
   "outputs": [
    {
     "name": "stderr",
     "output_type": "stream",
     "text": [
      "\n",
      "KeyboardInterrupt\n",
      "\n"
     ]
    }
   ],
   "source": [
    "dataset_embedding = create_embedding(data.Question)"
   ]
  },
  {
   "cell_type": "code",
   "execution_count": 154,
   "metadata": {},
   "outputs": [],
   "source": [
    "# Uncomment if using faiss\n",
    "# index = faiss.IndexFlatL2(768)\n",
    "# index.add(test)"
   ]
  },
  {
   "cell_type": "code",
   "execution_count": 8,
   "metadata": {},
   "outputs": [],
   "source": [
    "dataset_embedding = torch.load(\"Data/chitchat_dataset_embedding.pt\")"
   ]
  },
  {
   "cell_type": "code",
   "execution_count": 18,
   "metadata": {},
   "outputs": [
    {
     "name": "stderr",
     "output_type": "stream",
     "text": [
      "Downloading: 100%|██████████| 690/690 [00:00<00:00, 339kB/s]\n",
      "Downloading: 100%|██████████| 190/190 [00:00<00:00, 190kB/s]\n",
      "Downloading: 100%|██████████| 3.71k/3.71k [00:00<00:00, 1.87MB/s]\n",
      "Downloading: 100%|██████████| 827/827 [00:00<00:00, 413kB/s]\n",
      "Downloading: 100%|██████████| 122/122 [00:00<00:00, 119kB/s]\n",
      "Downloading: 100%|██████████| 229/229 [00:00<00:00, 45.9kB/s]\n",
      "Downloading: 100%|██████████| 46.7M/46.7M [00:09<00:00, 5.08MB/s]\n",
      "Downloading: 100%|██████████| 53.0/53.0 [00:00<00:00, 26.4kB/s]\n",
      "Downloading: 100%|██████████| 245/245 [00:00<00:00, 124kB/s]\n",
      "Downloading: 100%|██████████| 760k/760k [00:00<00:00, 838kB/s]  \n",
      "Downloading: 100%|██████████| 1.31M/1.31M [00:01<00:00, 852kB/s] \n",
      "Downloading: 100%|██████████| 465/465 [00:00<00:00, 232kB/s]\n"
     ]
    }
   ],
   "source": [
    "test_model = SentenceTransformer('sentence-transformers/paraphrase-albert-small-v2')\n",
    "# embeddings = model.encode(sentences)\n",
    "# print(embeddings)"
   ]
  },
  {
   "cell_type": "code",
   "execution_count": 37,
   "metadata": {},
   "outputs": [],
   "source": [
    "def search(query):\n",
    "    query_encoding = test_model.encode(query)[0]\n",
    "    print(type(query_encoding))\n",
    "    # cosin_sim = torch.nn.CosineSimilarity()\n",
    "    ques_index = np.argmax(util.cos_sim(query_encoding,dataset_embedding))\n",
    "    # distance, ques_index = index.search(query_encoding, 1)\n",
    "    return ques_index "
   ]
  },
  {
   "cell_type": "code",
   "execution_count": 38,
   "metadata": {},
   "outputs": [
    {
     "name": "stdout",
     "output_type": "stream",
     "text": [
      "<class 'numpy.ndarray'>\n",
      "<class 'numpy.ndarray'>\n",
      "Question            Who are you?\n",
      "Answer      I don't have a name.\n",
      "Name: 1576, dtype: object\n"
     ]
    }
   ],
   "source": [
    "query = [\"Who are you\"]\n",
    "\n",
    "data.iloc[search(query).item()]\n",
    "ques_index = search(query)\n",
    "print(data.iloc[ques_index.item()])\n",
    "# bl = test_model.encode(query)\n"
   ]
  },
  {
   "cell_type": "code",
   "execution_count": 27,
   "metadata": {},
   "outputs": [],
   "source": [
    "torch.save(dataset_embedding, \"chitchat_dataset_embedding.pt\")"
   ]
  }
 ],
 "metadata": {
  "kernelspec": {
   "display_name": "Python 3.8.11 ('ds')",
   "language": "python",
   "name": "python3"
  },
  "language_info": {
   "codemirror_mode": {
    "name": "ipython",
    "version": 3
   },
   "file_extension": ".py",
   "mimetype": "text/x-python",
   "name": "python",
   "nbconvert_exporter": "python",
   "pygments_lexer": "ipython3",
   "version": "3.8.11"
  },
  "vscode": {
   "interpreter": {
    "hash": "216b33ba287e42d2a87342f3b9e368cf1b71a9244e6603550934e59b39d7eb84"
   }
  }
 },
 "nbformat": 4,
 "nbformat_minor": 4
}
