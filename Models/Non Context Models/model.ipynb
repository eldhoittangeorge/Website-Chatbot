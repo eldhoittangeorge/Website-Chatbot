{
 "cells": [
  {
   "cell_type": "code",
   "execution_count": 1,
   "metadata": {},
   "outputs": [],
   "source": [
    "import pandas as pd\n",
    "from transformers import AutoTokenizer, AutoModel\n",
    "import torch\n",
    "import numpy as np\n",
    "#import faiss"
   ]
  },
  {
   "cell_type": "code",
   "execution_count": 2,
   "metadata": {},
   "outputs": [],
   "source": [
    "data = pd.read_csv(\"Data/data.csv\")"
   ]
  },
  {
   "cell_type": "code",
   "execution_count": 3,
   "metadata": {},
   "outputs": [
    {
     "name": "stderr",
     "output_type": "stream",
     "text": [
      "Downloading: 100%|██████████| 827/827 [00:00<00:00, 209kB/s]\n",
      "Downloading: 100%|██████████| 760k/760k [00:01<00:00, 734kB/s]  \n",
      "Downloading: 100%|██████████| 1.31M/1.31M [00:15<00:00, 82.8kB/s]\n",
      "Downloading: 100%|██████████| 245/245 [00:00<00:00, 89.3kB/s]\n",
      "Downloading: 100%|██████████| 465/465 [00:00<00:00, 219kB/s]\n",
      "Downloading: 100%|██████████| 46.7M/46.7M [00:31<00:00, 1.47MB/s]\n"
     ]
    }
   ],
   "source": [
    "tokenizer = AutoTokenizer.from_pretrained('sentence-transformers/paraphrase-albert-small-v2')\n",
    "model = AutoModel.from_pretrained('sentence-transformers/paraphrase-albert-small-v2')"
   ]
  },
  {
   "cell_type": "code",
   "execution_count": 4,
   "metadata": {},
   "outputs": [],
   "source": [
    "def mean_pooling(model_output, attention_mask):\n",
    "    token_embeddings = model_output[0]\n",
    "    input_mask_expanded = attention_mask.unsqueeze(-1).expand(token_embeddings.size()).float()\n",
    "    return torch.sum(token_embeddings * input_mask_expanded, 1) / torch.clamp(input_mask_expanded.sum(1), min=1e-9)"
   ]
  },
  {
   "cell_type": "code",
   "execution_count": 5,
   "metadata": {},
   "outputs": [],
   "source": [
    "def create_embedding(data):\n",
    "    encoded_input = tokenizer(list(data), padding=True, truncation=True, return_tensors=\"pt\")\n",
    "    with torch.no_grad():\n",
    "        model_output = model(**encoded_input)\n",
    "    sentence_embedding = mean_pooling(model_output, encoded_input['attention_mask'])\n",
    "\n",
    "    #Uncomment if using faiss\n",
    "    # sentence_embedding = sentence_embedding.numpy()\n",
    "\n",
    "    return sentence_embedding"
   ]
  },
  {
   "cell_type": "code",
   "execution_count": 6,
   "metadata": {},
   "outputs": [
    {
     "name": "stderr",
     "output_type": "stream",
     "text": [
      "\n",
      "KeyboardInterrupt\n",
      "\n"
     ]
    }
   ],
   "source": [
    "dataset_embedding = create_embedding(data.Question)"
   ]
  },
  {
   "cell_type": "code",
   "execution_count": 154,
   "metadata": {},
   "outputs": [],
   "source": [
    "# Uncomment if using faiss\n",
    "# index = faiss.IndexFlatL2(768)\n",
    "# index.add(test)"
   ]
  },
  {
   "cell_type": "code",
   "execution_count": 23,
   "metadata": {},
   "outputs": [],
   "source": [
    "def search(query):\n",
    "    query_encoding = create_embedding(query)\n",
    "    cosin_sim = torch.nn.CosineSimilarity()\n",
    "    ques_index = np.argmax(cosin_sim(query_encoding,dataset_embedding))\n",
    "    # distance, ques_index = index.search(query_encoding, 1)\n",
    "    return ques_index "
   ]
  },
  {
   "cell_type": "code",
   "execution_count": 26,
   "metadata": {},
   "outputs": [
    {
     "name": "stdout",
     "output_type": "stream",
     "text": [
      "Question                               Where are you from?\n",
      "Answer      I'm digital. I don't have a physical location.\n",
      "Name: 3919, dtype: object\n"
     ]
    }
   ],
   "source": [
    "query = [\"Where are you from\"]\n",
    "\n",
    "# data.iloc[search(query).item()]\n",
    "ques_index = search(query)\n",
    "print(data.iloc[ques_index.item()])\n"
   ]
  },
  {
   "cell_type": "code",
   "execution_count": 27,
   "metadata": {},
   "outputs": [],
   "source": [
    "torch.save(dataset_embedding, \"chitchat_dataset_embedding.pt\")"
   ]
  }
 ],
 "metadata": {
  "interpreter": {
   "hash": "ba8a2f979b76317ccf93e467e94d1dd25a4d448df8fe3a724a905e71adb08bc7"
  },
  "kernelspec": {
   "display_name": "default:Python",
   "language": "python",
   "name": "python3"
  },
  "language_info": {
   "codemirror_mode": {
    "name": "ipython",
    "version": 3
   },
   "file_extension": ".py",
   "mimetype": "text/x-python",
   "name": "python",
   "nbconvert_exporter": "python",
   "pygments_lexer": "ipython3",
   "version": "3.8.5"
  }
 },
 "nbformat": 4,
 "nbformat_minor": 4
}
