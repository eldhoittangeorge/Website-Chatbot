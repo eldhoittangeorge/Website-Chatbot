{
 "cells": [
  {
   "cell_type": "code",
   "execution_count": 1,
   "metadata": {},
   "outputs": [
    {
     "name": "stderr",
     "output_type": "stream",
     "text": [
      "c:\\Users\\ANT-PC\\anaconda3\\envs\\ds\\lib\\site-packages\\tqdm\\auto.py:22: TqdmWarning: IProgress not found. Please update jupyter and ipywidgets. See https://ipywidgets.readthedocs.io/en/stable/user_install.html\n",
      "  from .autonotebook import tqdm as notebook_tqdm\n"
     ]
    }
   ],
   "source": [
    "from transformers import AutoTokenizer, DataCollatorWithPadding, AutoModelForSequenceClassification, TrainingArguments, Trainer \n",
    "import pandas as pd\n",
    "import datasets\n",
    "from pymongo import MongoClient"
   ]
  },
  {
   "cell_type": "code",
   "execution_count": 2,
   "metadata": {},
   "outputs": [
    {
     "name": "stderr",
     "output_type": "stream",
     "text": [
      "Some weights of the model checkpoint at distilbert-base-uncased were not used when initializing DistilBertForSequenceClassification: ['vocab_projector.weight', 'vocab_layer_norm.bias', 'vocab_projector.bias', 'vocab_transform.bias', 'vocab_layer_norm.weight', 'vocab_transform.weight']\n",
      "- This IS expected if you are initializing DistilBertForSequenceClassification from the checkpoint of a model trained on another task or with another architecture (e.g. initializing a BertForSequenceClassification model from a BertForPreTraining model).\n",
      "- This IS NOT expected if you are initializing DistilBertForSequenceClassification from the checkpoint of a model that you expect to be exactly identical (initializing a BertForSequenceClassification model from a BertForSequenceClassification model).\n",
      "Some weights of DistilBertForSequenceClassification were not initialized from the model checkpoint at distilbert-base-uncased and are newly initialized: ['pre_classifier.weight', 'classifier.bias', 'pre_classifier.bias', 'classifier.weight']\n",
      "You should probably TRAIN this model on a down-stream task to be able to use it for predictions and inference.\n"
     ]
    }
   ],
   "source": [
    "tokenizer = AutoTokenizer.from_pretrained('distilbert-base-uncased')\n",
    "data_collator = DataCollatorWithPadding(tokenizer=tokenizer)\n",
    "model = AutoModelForSequenceClassification.from_pretrained('distilbert-base-uncased', num_labels=2)"
   ]
  },
  {
   "cell_type": "code",
   "execution_count": 3,
   "metadata": {},
   "outputs": [],
   "source": [
    "db_client = MongoClient(host=\"localhost\", port=27017)\n",
    "db = db_client[\"Website_Chatbot\"]\n",
    "collection = db[\"MITS\"]\n",
    "\n",
    "questions = []\n",
    "for document in collection.find():\n",
    "    questions += document[\"questions\"]\n",
    "\n",
    "non_context_data = pd.read_csv(\"Data/data.csv\")\n",
    "context_data = questions"
   ]
  },
  {
   "cell_type": "code",
   "execution_count": 4,
   "metadata": {},
   "outputs": [],
   "source": [
    "def preprocess_fn(examples):\n",
    "    return tokenizer(examples[\"text\"], truncation=True)"
   ]
  },
  {
   "cell_type": "code",
   "execution_count": 14,
   "metadata": {},
   "outputs": [],
   "source": [
    "data = [{\"label\":0, \"text\":x[1].Question} for x in non_context_data.iterrows()]\n",
    "data += [{\"label\":1, \"text\":x} for x in context_data]\n",
    "preprocessed_data = list(map(preprocess_fn, data))"
   ]
  },
  {
   "cell_type": "code",
   "execution_count": 16,
   "metadata": {},
   "outputs": [
    {
     "name": "stderr",
     "output_type": "stream",
     "text": [
      "PyTorch: setting up devices\n",
      "The default value for the training argument `--report_to` will change in v5 (from all installed integrations to none). In v5, you will need to use `--report_to all` to get the same behavior as now. You should start updating your code and make this info disappear :-).\n",
      "Using deprecated `--per_gpu_train_batch_size` argument which will be removed in a future version. Using `--per_device_train_batch_size` is preferred.\n",
      "Using deprecated `--per_gpu_train_batch_size` argument which will be removed in a future version. Using `--per_device_train_batch_size` is preferred.\n",
      "***** Running training *****\n",
      "  Num examples = 11142\n",
      "  Num Epochs = 5\n",
      "  Instantaneous batch size per device = 8\n",
      "  Total train batch size (w. parallel, distributed & accumulation) = 16\n",
      "  Gradient Accumulation steps = 1\n",
      "  Total optimization steps = 3485\n"
     ]
    },
    {
     "ename": "Exception",
     "evalue": "Run with UUID 002c35e0780542579f78069ad0026041 is already active. To start a new run, first end the current run with mlflow.end_run(). To start a nested run, call start_run with nested=True",
     "output_type": "error",
     "traceback": [
      "\u001b[1;31m---------------------------------------------------------------------------\u001b[0m",
      "\u001b[1;31mException\u001b[0m                                 Traceback (most recent call last)",
      "\u001b[1;32md:\\Website-Chatbot\\Models\\Context Evaluation Model\\Model2.ipynb Cell 6'\u001b[0m in \u001b[0;36m<cell line: 18>\u001b[1;34m()\u001b[0m\n\u001b[0;32m      <a href='vscode-notebook-cell:/d%3A/Website-Chatbot/Models/Context%20Evaluation%20Model/Model2.ipynb#ch0000014?line=0'>1</a>\u001b[0m training_args \u001b[39m=\u001b[39m TrainingArguments(\n\u001b[0;32m      <a href='vscode-notebook-cell:/d%3A/Website-Chatbot/Models/Context%20Evaluation%20Model/Model2.ipynb#ch0000014?line=1'>2</a>\u001b[0m     output_dir\u001b[39m=\u001b[39m\u001b[39m\"\u001b[39m\u001b[39m./resuls\u001b[39m\u001b[39m\"\u001b[39m,\n\u001b[0;32m      <a href='vscode-notebook-cell:/d%3A/Website-Chatbot/Models/Context%20Evaluation%20Model/Model2.ipynb#ch0000014?line=2'>3</a>\u001b[0m     learning_rate\u001b[39m=\u001b[39m\u001b[39m2e-5\u001b[39m,\n\u001b[1;32m   (...)\u001b[0m\n\u001b[0;32m      <a href='vscode-notebook-cell:/d%3A/Website-Chatbot/Models/Context%20Evaluation%20Model/Model2.ipynb#ch0000014?line=6'>7</a>\u001b[0m     weight_decay\u001b[39m=\u001b[39m\u001b[39m0.01\u001b[39m\n\u001b[0;32m      <a href='vscode-notebook-cell:/d%3A/Website-Chatbot/Models/Context%20Evaluation%20Model/Model2.ipynb#ch0000014?line=7'>8</a>\u001b[0m )\n\u001b[0;32m     <a href='vscode-notebook-cell:/d%3A/Website-Chatbot/Models/Context%20Evaluation%20Model/Model2.ipynb#ch0000014?line=9'>10</a>\u001b[0m trainer \u001b[39m=\u001b[39m Trainer(\n\u001b[0;32m     <a href='vscode-notebook-cell:/d%3A/Website-Chatbot/Models/Context%20Evaluation%20Model/Model2.ipynb#ch0000014?line=10'>11</a>\u001b[0m     model\u001b[39m=\u001b[39mmodel,\n\u001b[0;32m     <a href='vscode-notebook-cell:/d%3A/Website-Chatbot/Models/Context%20Evaluation%20Model/Model2.ipynb#ch0000014?line=11'>12</a>\u001b[0m     args\u001b[39m=\u001b[39mtraining_args,\n\u001b[1;32m   (...)\u001b[0m\n\u001b[0;32m     <a href='vscode-notebook-cell:/d%3A/Website-Chatbot/Models/Context%20Evaluation%20Model/Model2.ipynb#ch0000014?line=14'>15</a>\u001b[0m     data_collator\u001b[39m=\u001b[39mdata_collator\n\u001b[0;32m     <a href='vscode-notebook-cell:/d%3A/Website-Chatbot/Models/Context%20Evaluation%20Model/Model2.ipynb#ch0000014?line=15'>16</a>\u001b[0m )\n\u001b[1;32m---> <a href='vscode-notebook-cell:/d%3A/Website-Chatbot/Models/Context%20Evaluation%20Model/Model2.ipynb#ch0000014?line=17'>18</a>\u001b[0m trainer\u001b[39m.\u001b[39;49mtrain()\n",
      "File \u001b[1;32mc:\\Users\\ANT-PC\\anaconda3\\envs\\ds\\lib\\site-packages\\transformers\\trainer.py:1268\u001b[0m, in \u001b[0;36mTrainer.train\u001b[1;34m(self, resume_from_checkpoint, trial, ignore_keys_for_eval, **kwargs)\u001b[0m\n\u001b[0;32m   <a href='file:///c%3A/Users/ANT-PC/anaconda3/envs/ds/lib/site-packages/transformers/trainer.py?line=1264'>1265</a>\u001b[0m \u001b[39mself\u001b[39m\u001b[39m.\u001b[39m_globalstep_last_logged \u001b[39m=\u001b[39m \u001b[39mself\u001b[39m\u001b[39m.\u001b[39mstate\u001b[39m.\u001b[39mglobal_step\n\u001b[0;32m   <a href='file:///c%3A/Users/ANT-PC/anaconda3/envs/ds/lib/site-packages/transformers/trainer.py?line=1265'>1266</a>\u001b[0m model\u001b[39m.\u001b[39mzero_grad()\n\u001b[1;32m-> <a href='file:///c%3A/Users/ANT-PC/anaconda3/envs/ds/lib/site-packages/transformers/trainer.py?line=1267'>1268</a>\u001b[0m \u001b[39mself\u001b[39m\u001b[39m.\u001b[39mcontrol \u001b[39m=\u001b[39m \u001b[39mself\u001b[39;49m\u001b[39m.\u001b[39;49mcallback_handler\u001b[39m.\u001b[39;49mon_train_begin(args, \u001b[39mself\u001b[39;49m\u001b[39m.\u001b[39;49mstate, \u001b[39mself\u001b[39;49m\u001b[39m.\u001b[39;49mcontrol)\n\u001b[0;32m   <a href='file:///c%3A/Users/ANT-PC/anaconda3/envs/ds/lib/site-packages/transformers/trainer.py?line=1269'>1270</a>\u001b[0m \u001b[39m# Skip the first epochs_trained epochs to get the random state of the dataloader at the right point.\u001b[39;00m\n\u001b[0;32m   <a href='file:///c%3A/Users/ANT-PC/anaconda3/envs/ds/lib/site-packages/transformers/trainer.py?line=1270'>1271</a>\u001b[0m \u001b[39mif\u001b[39;00m \u001b[39mnot\u001b[39;00m args\u001b[39m.\u001b[39mignore_data_skip:\n",
      "File \u001b[1;32mc:\\Users\\ANT-PC\\anaconda3\\envs\\ds\\lib\\site-packages\\transformers\\trainer_callback.py:346\u001b[0m, in \u001b[0;36mCallbackHandler.on_train_begin\u001b[1;34m(self, args, state, control)\u001b[0m\n\u001b[0;32m    <a href='file:///c%3A/Users/ANT-PC/anaconda3/envs/ds/lib/site-packages/transformers/trainer_callback.py?line=343'>344</a>\u001b[0m \u001b[39mdef\u001b[39;00m \u001b[39mon_train_begin\u001b[39m(\u001b[39mself\u001b[39m, args: TrainingArguments, state: TrainerState, control: TrainerControl):\n\u001b[0;32m    <a href='file:///c%3A/Users/ANT-PC/anaconda3/envs/ds/lib/site-packages/transformers/trainer_callback.py?line=344'>345</a>\u001b[0m     control\u001b[39m.\u001b[39mshould_training_stop \u001b[39m=\u001b[39m \u001b[39mFalse\u001b[39;00m\n\u001b[1;32m--> <a href='file:///c%3A/Users/ANT-PC/anaconda3/envs/ds/lib/site-packages/transformers/trainer_callback.py?line=345'>346</a>\u001b[0m     \u001b[39mreturn\u001b[39;00m \u001b[39mself\u001b[39;49m\u001b[39m.\u001b[39;49mcall_event(\u001b[39m\"\u001b[39;49m\u001b[39mon_train_begin\u001b[39;49m\u001b[39m\"\u001b[39;49m, args, state, control)\n",
      "File \u001b[1;32mc:\\Users\\ANT-PC\\anaconda3\\envs\\ds\\lib\\site-packages\\transformers\\trainer_callback.py:387\u001b[0m, in \u001b[0;36mCallbackHandler.call_event\u001b[1;34m(self, event, args, state, control, **kwargs)\u001b[0m\n\u001b[0;32m    <a href='file:///c%3A/Users/ANT-PC/anaconda3/envs/ds/lib/site-packages/transformers/trainer_callback.py?line=384'>385</a>\u001b[0m \u001b[39mdef\u001b[39;00m \u001b[39mcall_event\u001b[39m(\u001b[39mself\u001b[39m, event, args, state, control, \u001b[39m*\u001b[39m\u001b[39m*\u001b[39mkwargs):\n\u001b[0;32m    <a href='file:///c%3A/Users/ANT-PC/anaconda3/envs/ds/lib/site-packages/transformers/trainer_callback.py?line=385'>386</a>\u001b[0m     \u001b[39mfor\u001b[39;00m callback \u001b[39min\u001b[39;00m \u001b[39mself\u001b[39m\u001b[39m.\u001b[39mcallbacks:\n\u001b[1;32m--> <a href='file:///c%3A/Users/ANT-PC/anaconda3/envs/ds/lib/site-packages/transformers/trainer_callback.py?line=386'>387</a>\u001b[0m         result \u001b[39m=\u001b[39m \u001b[39mgetattr\u001b[39;49m(callback, event)(\n\u001b[0;32m    <a href='file:///c%3A/Users/ANT-PC/anaconda3/envs/ds/lib/site-packages/transformers/trainer_callback.py?line=387'>388</a>\u001b[0m             args,\n\u001b[0;32m    <a href='file:///c%3A/Users/ANT-PC/anaconda3/envs/ds/lib/site-packages/transformers/trainer_callback.py?line=388'>389</a>\u001b[0m             state,\n\u001b[0;32m    <a href='file:///c%3A/Users/ANT-PC/anaconda3/envs/ds/lib/site-packages/transformers/trainer_callback.py?line=389'>390</a>\u001b[0m             control,\n\u001b[0;32m    <a href='file:///c%3A/Users/ANT-PC/anaconda3/envs/ds/lib/site-packages/transformers/trainer_callback.py?line=390'>391</a>\u001b[0m             model\u001b[39m=\u001b[39;49m\u001b[39mself\u001b[39;49m\u001b[39m.\u001b[39;49mmodel,\n\u001b[0;32m    <a href='file:///c%3A/Users/ANT-PC/anaconda3/envs/ds/lib/site-packages/transformers/trainer_callback.py?line=391'>392</a>\u001b[0m             tokenizer\u001b[39m=\u001b[39;49m\u001b[39mself\u001b[39;49m\u001b[39m.\u001b[39;49mtokenizer,\n\u001b[0;32m    <a href='file:///c%3A/Users/ANT-PC/anaconda3/envs/ds/lib/site-packages/transformers/trainer_callback.py?line=392'>393</a>\u001b[0m             optimizer\u001b[39m=\u001b[39;49m\u001b[39mself\u001b[39;49m\u001b[39m.\u001b[39;49moptimizer,\n\u001b[0;32m    <a href='file:///c%3A/Users/ANT-PC/anaconda3/envs/ds/lib/site-packages/transformers/trainer_callback.py?line=393'>394</a>\u001b[0m             lr_scheduler\u001b[39m=\u001b[39;49m\u001b[39mself\u001b[39;49m\u001b[39m.\u001b[39;49mlr_scheduler,\n\u001b[0;32m    <a href='file:///c%3A/Users/ANT-PC/anaconda3/envs/ds/lib/site-packages/transformers/trainer_callback.py?line=394'>395</a>\u001b[0m             train_dataloader\u001b[39m=\u001b[39;49m\u001b[39mself\u001b[39;49m\u001b[39m.\u001b[39;49mtrain_dataloader,\n\u001b[0;32m    <a href='file:///c%3A/Users/ANT-PC/anaconda3/envs/ds/lib/site-packages/transformers/trainer_callback.py?line=395'>396</a>\u001b[0m             eval_dataloader\u001b[39m=\u001b[39;49m\u001b[39mself\u001b[39;49m\u001b[39m.\u001b[39;49meval_dataloader,\n\u001b[0;32m    <a href='file:///c%3A/Users/ANT-PC/anaconda3/envs/ds/lib/site-packages/transformers/trainer_callback.py?line=396'>397</a>\u001b[0m             \u001b[39m*\u001b[39;49m\u001b[39m*\u001b[39;49mkwargs,\n\u001b[0;32m    <a href='file:///c%3A/Users/ANT-PC/anaconda3/envs/ds/lib/site-packages/transformers/trainer_callback.py?line=397'>398</a>\u001b[0m         )\n\u001b[0;32m    <a href='file:///c%3A/Users/ANT-PC/anaconda3/envs/ds/lib/site-packages/transformers/trainer_callback.py?line=398'>399</a>\u001b[0m         \u001b[39m# A Callback can skip the return of `control` if it doesn't change it.\u001b[39;00m\n\u001b[0;32m    <a href='file:///c%3A/Users/ANT-PC/anaconda3/envs/ds/lib/site-packages/transformers/trainer_callback.py?line=399'>400</a>\u001b[0m         \u001b[39mif\u001b[39;00m result \u001b[39mis\u001b[39;00m \u001b[39mnot\u001b[39;00m \u001b[39mNone\u001b[39;00m:\n",
      "File \u001b[1;32mc:\\Users\\ANT-PC\\anaconda3\\envs\\ds\\lib\\site-packages\\transformers\\integrations.py:743\u001b[0m, in \u001b[0;36mMLflowCallback.on_train_begin\u001b[1;34m(self, args, state, control, model, **kwargs)\u001b[0m\n\u001b[0;32m    <a href='file:///c%3A/Users/ANT-PC/anaconda3/envs/ds/lib/site-packages/transformers/integrations.py?line=740'>741</a>\u001b[0m \u001b[39mdef\u001b[39;00m \u001b[39mon_train_begin\u001b[39m(\u001b[39mself\u001b[39m, args, state, control, model\u001b[39m=\u001b[39m\u001b[39mNone\u001b[39;00m, \u001b[39m*\u001b[39m\u001b[39m*\u001b[39mkwargs):\n\u001b[0;32m    <a href='file:///c%3A/Users/ANT-PC/anaconda3/envs/ds/lib/site-packages/transformers/integrations.py?line=741'>742</a>\u001b[0m     \u001b[39mif\u001b[39;00m \u001b[39mnot\u001b[39;00m \u001b[39mself\u001b[39m\u001b[39m.\u001b[39m_initialized:\n\u001b[1;32m--> <a href='file:///c%3A/Users/ANT-PC/anaconda3/envs/ds/lib/site-packages/transformers/integrations.py?line=742'>743</a>\u001b[0m         \u001b[39mself\u001b[39;49m\u001b[39m.\u001b[39;49msetup(args, state, model)\n",
      "File \u001b[1;32mc:\\Users\\ANT-PC\\anaconda3\\envs\\ds\\lib\\site-packages\\transformers\\integrations.py:719\u001b[0m, in \u001b[0;36mMLflowCallback.setup\u001b[1;34m(self, args, state, model)\u001b[0m\n\u001b[0;32m    <a href='file:///c%3A/Users/ANT-PC/anaconda3/envs/ds/lib/site-packages/transformers/integrations.py?line=716'>717</a>\u001b[0m     \u001b[39mself\u001b[39m\u001b[39m.\u001b[39m_log_artifacts \u001b[39m=\u001b[39m \u001b[39mTrue\u001b[39;00m\n\u001b[0;32m    <a href='file:///c%3A/Users/ANT-PC/anaconda3/envs/ds/lib/site-packages/transformers/integrations.py?line=717'>718</a>\u001b[0m \u001b[39mif\u001b[39;00m state\u001b[39m.\u001b[39mis_world_process_zero:\n\u001b[1;32m--> <a href='file:///c%3A/Users/ANT-PC/anaconda3/envs/ds/lib/site-packages/transformers/integrations.py?line=718'>719</a>\u001b[0m     \u001b[39mself\u001b[39;49m\u001b[39m.\u001b[39;49m_ml_flow\u001b[39m.\u001b[39;49mstart_run()\n\u001b[0;32m    <a href='file:///c%3A/Users/ANT-PC/anaconda3/envs/ds/lib/site-packages/transformers/integrations.py?line=719'>720</a>\u001b[0m     combined_dict \u001b[39m=\u001b[39m args\u001b[39m.\u001b[39mto_dict()\n\u001b[0;32m    <a href='file:///c%3A/Users/ANT-PC/anaconda3/envs/ds/lib/site-packages/transformers/integrations.py?line=720'>721</a>\u001b[0m     \u001b[39mif\u001b[39;00m \u001b[39mhasattr\u001b[39m(model, \u001b[39m\"\u001b[39m\u001b[39mconfig\u001b[39m\u001b[39m\"\u001b[39m) \u001b[39mand\u001b[39;00m model\u001b[39m.\u001b[39mconfig \u001b[39mis\u001b[39;00m \u001b[39mnot\u001b[39;00m \u001b[39mNone\u001b[39;00m:\n",
      "File \u001b[1;32mc:\\Users\\ANT-PC\\anaconda3\\envs\\ds\\lib\\site-packages\\mlflow\\tracking\\fluent.py:180\u001b[0m, in \u001b[0;36mstart_run\u001b[1;34m(run_id, experiment_id, run_name, nested, tags)\u001b[0m\n\u001b[0;32m    <a href='file:///c%3A/Users/ANT-PC/anaconda3/envs/ds/lib/site-packages/mlflow/tracking/fluent.py?line=177'>178</a>\u001b[0m experiment_id \u001b[39m=\u001b[39m \u001b[39mstr\u001b[39m(experiment_id) \u001b[39mif\u001b[39;00m \u001b[39misinstance\u001b[39m(experiment_id, \u001b[39mint\u001b[39m) \u001b[39melse\u001b[39;00m experiment_id\n\u001b[0;32m    <a href='file:///c%3A/Users/ANT-PC/anaconda3/envs/ds/lib/site-packages/mlflow/tracking/fluent.py?line=178'>179</a>\u001b[0m \u001b[39mif\u001b[39;00m \u001b[39mlen\u001b[39m(_active_run_stack) \u001b[39m>\u001b[39m \u001b[39m0\u001b[39m \u001b[39mand\u001b[39;00m \u001b[39mnot\u001b[39;00m nested:\n\u001b[1;32m--> <a href='file:///c%3A/Users/ANT-PC/anaconda3/envs/ds/lib/site-packages/mlflow/tracking/fluent.py?line=179'>180</a>\u001b[0m     \u001b[39mraise\u001b[39;00m \u001b[39mException\u001b[39;00m(\n\u001b[0;32m    <a href='file:///c%3A/Users/ANT-PC/anaconda3/envs/ds/lib/site-packages/mlflow/tracking/fluent.py?line=180'>181</a>\u001b[0m         (\n\u001b[0;32m    <a href='file:///c%3A/Users/ANT-PC/anaconda3/envs/ds/lib/site-packages/mlflow/tracking/fluent.py?line=181'>182</a>\u001b[0m             \u001b[39m\"\u001b[39m\u001b[39mRun with UUID \u001b[39m\u001b[39m{}\u001b[39;00m\u001b[39m is already active. To start a new run, first end the \u001b[39m\u001b[39m\"\u001b[39m\n\u001b[0;32m    <a href='file:///c%3A/Users/ANT-PC/anaconda3/envs/ds/lib/site-packages/mlflow/tracking/fluent.py?line=182'>183</a>\u001b[0m             \u001b[39m+\u001b[39m \u001b[39m\"\u001b[39m\u001b[39mcurrent run with mlflow.end_run(). To start a nested \u001b[39m\u001b[39m\"\u001b[39m\n\u001b[0;32m    <a href='file:///c%3A/Users/ANT-PC/anaconda3/envs/ds/lib/site-packages/mlflow/tracking/fluent.py?line=183'>184</a>\u001b[0m             \u001b[39m+\u001b[39m \u001b[39m\"\u001b[39m\u001b[39mrun, call start_run with nested=True\u001b[39m\u001b[39m\"\u001b[39m\n\u001b[0;32m    <a href='file:///c%3A/Users/ANT-PC/anaconda3/envs/ds/lib/site-packages/mlflow/tracking/fluent.py?line=184'>185</a>\u001b[0m         )\u001b[39m.\u001b[39mformat(_active_run_stack[\u001b[39m0\u001b[39m]\u001b[39m.\u001b[39minfo\u001b[39m.\u001b[39mrun_id)\n\u001b[0;32m    <a href='file:///c%3A/Users/ANT-PC/anaconda3/envs/ds/lib/site-packages/mlflow/tracking/fluent.py?line=185'>186</a>\u001b[0m     )\n\u001b[0;32m    <a href='file:///c%3A/Users/ANT-PC/anaconda3/envs/ds/lib/site-packages/mlflow/tracking/fluent.py?line=186'>187</a>\u001b[0m \u001b[39mif\u001b[39;00m run_id:\n\u001b[0;32m    <a href='file:///c%3A/Users/ANT-PC/anaconda3/envs/ds/lib/site-packages/mlflow/tracking/fluent.py?line=187'>188</a>\u001b[0m     existing_run_id \u001b[39m=\u001b[39m run_id\n",
      "\u001b[1;31mException\u001b[0m: Run with UUID 002c35e0780542579f78069ad0026041 is already active. To start a new run, first end the current run with mlflow.end_run(). To start a nested run, call start_run with nested=True"
     ]
    }
   ],
   "source": [
    "training_args = TrainingArguments(\n",
    "    output_dir=\"./results\",\n",
    "    learning_rate=2e-5,\n",
    "    per_gpu_train_batch_size=16,\n",
    "    per_device_eval_batch_size=16,\n",
    "    num_train_epochs=5,\n",
    "    weight_decay=0.01\n",
    ")\n",
    "\n",
    "trainer = Trainer(\n",
    "    model=model,\n",
    "    args=training_args,\n",
    "    train_dataset=preprocessed_data,\n",
    "    tokenizer=tokenizer,\n",
    "    data_collator=data_collator\n",
    ")\n",
    "\n",
    "trainer.train()"
   ]
  }
 ],
 "metadata": {
  "interpreter": {
   "hash": "216b33ba287e42d2a87342f3b9e368cf1b71a9244e6603550934e59b39d7eb84"
  },
  "kernelspec": {
   "display_name": "Python 3.8.11 ('ds')",
   "language": "python",
   "name": "python3"
  },
  "language_info": {
   "codemirror_mode": {
    "name": "ipython",
    "version": 3
   },
   "file_extension": ".py",
   "mimetype": "text/x-python",
   "name": "python",
   "nbconvert_exporter": "python",
   "pygments_lexer": "ipython3",
   "version": "3.8.11"
  },
  "orig_nbformat": 4
 },
 "nbformat": 4,
 "nbformat_minor": 2
}
