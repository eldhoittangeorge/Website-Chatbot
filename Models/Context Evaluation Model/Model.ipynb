{
 "cells": [
  {
   "cell_type": "code",
   "execution_count": 33,
   "id": "b39603e8-3dac-441c-8e33-f317b66f73d5",
   "metadata": {},
   "outputs": [],
   "source": [
    "import pandas as pd\n",
    "import torch\n",
    "import pickle\n",
    "from joblib import dump, load\n",
    "from transformers import DistilBertTokenizer, DistilBertModel\n",
    "from sklearn.svm import OneClassSVM"
   ]
  },
  {
   "cell_type": "code",
   "execution_count": 21,
   "id": "2e923040-c098-473a-825f-66f47ffbadb6",
   "metadata": {},
   "outputs": [],
   "source": [
    "data = pd.read_csv(\"Data/data.csv\")"
   ]
  },
  {
   "cell_type": "code",
   "execution_count": 22,
   "id": "014683c4-c26c-4a5c-8389-3e9c08656e3c",
   "metadata": {},
   "outputs": [
    {
     "name": "stderr",
     "output_type": "stream",
     "text": [
      "Some weights of the model checkpoint at distilbert-base-uncased were not used when initializing DistilBertModel: ['vocab_projector.bias', 'vocab_transform.bias', 'vocab_layer_norm.bias', 'vocab_transform.weight', 'vocab_layer_norm.weight', 'vocab_projector.weight']\n",
      "- This IS expected if you are initializing DistilBertModel from the checkpoint of a model trained on another task or with another architecture (e.g. initializing a BertForSequenceClassification model from a BertForPreTraining model).\n",
      "- This IS NOT expected if you are initializing DistilBertModel from the checkpoint of a model that you expect to be exactly identical (initializing a BertForSequenceClassification model from a BertForSequenceClassification model).\n"
     ]
    }
   ],
   "source": [
    "model_name = \"distilbert-base-uncased\"\n",
    "tokenizer = DistilBertTokenizer.from_pretrained(model_name)\n",
    "model = DistilBertModel.from_pretrained(model_name)"
   ]
  },
  {
   "cell_type": "code",
   "execution_count": 23,
   "id": "f3cf2196-789a-40ab-b84f-da3e659282c6",
   "metadata": {},
   "outputs": [],
   "source": [
    "def mean_pooling(model_output, attention_mask):\n",
    "    token_embeddings = model_output[0]\n",
    "    input_mask_expanded = attention_mask.unsqueeze(-1).expand(token_embeddings.size()).float()\n",
    "    return torch.sum(token_embeddings * input_mask_expanded, 1) / torch.clamp(input_mask_expanded.sum(1), min=1e-9)"
   ]
  },
  {
   "cell_type": "code",
   "execution_count": 24,
   "id": "3e21af02-e15c-4a3c-ac9d-9b394fc02a83",
   "metadata": {},
   "outputs": [],
   "source": [
    "def create_embedding(data):\n",
    "    encoded_input = tokenizer(data, padding=True, truncation=True, return_tensors=\"pt\")\n",
    "    with torch.no_grad():\n",
    "        output = model(**encoded_input)\n",
    "    embedding = mean_pooling(output, encoded_input[\"attention_mask\"])\n",
    "    return embedding.numpy()"
   ]
  },
  {
   "cell_type": "code",
   "execution_count": 25,
   "id": "0e33a24b-6175-45f7-b5d0-89f3ed014a5f",
   "metadata": {},
   "outputs": [],
   "source": [
    "dataset = create_embedding(list(data.Question))"
   ]
  },
  {
   "cell_type": "code",
   "execution_count": 26,
   "id": "512dc555-2e12-46ef-9f1d-a3eca0dbf4aa",
   "metadata": {},
   "outputs": [
    {
     "data": {
      "text/plain": [
       "(9793, 768)"
      ]
     },
     "execution_count": 26,
     "metadata": {},
     "output_type": "execute_result"
    }
   ],
   "source": [
    "dataset.shape"
   ]
  },
  {
   "cell_type": "code",
   "execution_count": 27,
   "id": "f908aef6-633f-4c06-8e87-4b9ebdf5becc",
   "metadata": {},
   "outputs": [
    {
     "data": {
      "text/plain": [
       "OneClassSVM(gamma='auto')"
      ]
     },
     "execution_count": 27,
     "metadata": {},
     "output_type": "execute_result"
    }
   ],
   "source": [
    "clf = OneClassSVM(gamma=\"auto\")\n",
    "clf.fit(dataset)"
   ]
  },
  {
   "cell_type": "code",
   "execution_count": 28,
   "id": "98493dae-057f-4d6a-bb7b-c4b88dbca9c1",
   "metadata": {},
   "outputs": [
    {
     "data": {
      "text/plain": [
       "array([1])"
      ]
     },
     "execution_count": 28,
     "metadata": {},
     "output_type": "execute_result"
    }
   ],
   "source": [
    "test = [\"What is your name\"]\n",
    "test_embedding = create_embedding(test)\n",
    "clf.predict(test_embedding)"
   ]
  },
  {
   "cell_type": "code",
   "execution_count": 34,
   "id": "2e54d40a-f9ea-4ab1-964c-749cf9af4d3d",
   "metadata": {},
   "outputs": [
    {
     "data": {
      "text/plain": [
       "['context_evaluation_model.joblib']"
      ]
     },
     "execution_count": 34,
     "metadata": {},
     "output_type": "execute_result"
    }
   ],
   "source": [
    "dump(clf, \"context_evaluation_model.joblib\")"
   ]
  },
  {
   "cell_type": "code",
   "execution_count": 35,
   "id": "2375f606-8987-41be-85c5-b4c205118e92",
   "metadata": {},
   "outputs": [],
   "source": [
    "cl = load(\"context_evaluation_model.joblib\")"
   ]
  },
  {
   "cell_type": "code",
   "execution_count": 42,
   "id": "c871c04a-44d6-45b2-ab6f-40738f365ca5",
   "metadata": {},
   "outputs": [
    {
     "data": {
      "text/plain": [
       "array([1])"
      ]
     },
     "execution_count": 42,
     "metadata": {},
     "output_type": "execute_result"
    }
   ],
   "source": [
    "cl.predict(create_embedding([\"Where do you live\"]))"
   ]
  },
  {
   "cell_type": "code",
   "execution_count": null,
   "id": "efc0782c-0392-4ed5-a575-38d71ab43b56",
   "metadata": {},
   "outputs": [],
   "source": []
  }
 ],
 "metadata": {
  "kernelspec": {
   "display_name": "default:Python",
   "language": "python",
   "name": "conda-env-default-py"
  },
  "language_info": {
   "codemirror_mode": {
    "name": "ipython",
    "version": 3
   },
   "file_extension": ".py",
   "mimetype": "text/x-python",
   "name": "python",
   "nbconvert_exporter": "python",
   "pygments_lexer": "ipython3",
   "version": "3.9.7"
  }
 },
 "nbformat": 4,
 "nbformat_minor": 5
}
