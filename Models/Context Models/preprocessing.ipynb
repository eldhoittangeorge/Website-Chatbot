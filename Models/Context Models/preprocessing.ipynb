{
 "cells": [
  {
   "cell_type": "code",
   "execution_count": 17,
   "id": "78636b42-3861-4941-9b4f-ca26ff322df2",
   "metadata": {},
   "outputs": [],
   "source": [
    "import pandas as pd"
   ]
  },
  {
   "cell_type": "code",
   "execution_count": 18,
   "id": "a6007272-3f6f-4871-92c8-df88a9441c40",
   "metadata": {},
   "outputs": [],
   "source": [
    "data = pd.read_csv(\"Data/data.csv\")"
   ]
  },
  {
   "cell_type": "code",
   "execution_count": 19,
   "id": "4d6fd94f-1e45-48ca-a49f-d3f9c56bdea7",
   "metadata": {},
   "outputs": [],
   "source": [
    "data[\"leng\"] = data.data.map(lambda x : len(x))"
   ]
  },
  {
   "cell_type": "code",
   "execution_count": 20,
   "id": "f2ee53e2-6658-496f-a6a6-d0dc84b64fb3",
   "metadata": {},
   "outputs": [],
   "source": [
    "data = data.sort_values(by=\"leng\", ascending=False)"
   ]
  },
  {
   "cell_type": "code",
   "execution_count": 23,
   "id": "4b4ee421-575e-4585-99c5-6ee3d503b3a5",
   "metadata": {},
   "outputs": [
    {
     "data": {
      "text/html": [
       "<div>\n",
       "<style scoped>\n",
       "    .dataframe tbody tr th:only-of-type {\n",
       "        vertical-align: middle;\n",
       "    }\n",
       "\n",
       "    .dataframe tbody tr th {\n",
       "        vertical-align: top;\n",
       "    }\n",
       "\n",
       "    .dataframe thead th {\n",
       "        text-align: right;\n",
       "    }\n",
       "</style>\n",
       "<table border=\"1\" class=\"dataframe\">\n",
       "  <thead>\n",
       "    <tr style=\"text-align: right;\">\n",
       "      <th></th>\n",
       "      <th>data</th>\n",
       "      <th>url</th>\n",
       "      <th>leng</th>\n",
       "    </tr>\n",
       "  </thead>\n",
       "  <tbody>\n",
       "    <tr>\n",
       "      <th>50</th>\n",
       "      <td>FACULTY &amp; STUDENT PUBLICATIONS Chikku Abraham,...</td>\n",
       "      <td>http://mgmits.ac.in/research/faculty-and-stude...</td>\n",
       "      <td>59512</td>\n",
       "    </tr>\n",
       "    <tr>\n",
       "      <th>35</th>\n",
       "      <td>“Cyber Forensic and Ethical hacking tools work...</td>\n",
       "      <td>http://mgmits.ac.in/news-events/</td>\n",
       "      <td>39444</td>\n",
       "    </tr>\n",
       "    <tr>\n",
       "      <th>48</th>\n",
       "      <td>UPDATES Selected papers of ICSCC 2021 will be ...</td>\n",
       "      <td>http://mgmits.ac.in/icscc-2020/</td>\n",
       "      <td>21128</td>\n",
       "    </tr>\n",
       "    <tr>\n",
       "      <th>62</th>\n",
       "      <td>DEPARTMENT OF Electronics and Communication De...</td>\n",
       "      <td>http://mgmits.ac.in/departments/electronics-an...</td>\n",
       "      <td>19086</td>\n",
       "    </tr>\n",
       "    <tr>\n",
       "      <th>65</th>\n",
       "      <td>DEPARTMENT OF Computer Science and Engineering...</td>\n",
       "      <td>http://mgmits.ac.in/departments/computer-scien...</td>\n",
       "      <td>10744</td>\n",
       "    </tr>\n",
       "    <tr>\n",
       "      <th>...</th>\n",
       "      <td>...</td>\n",
       "      <td>...</td>\n",
       "      <td>...</td>\n",
       "    </tr>\n",
       "    <tr>\n",
       "      <th>56</th>\n",
       "      <td>CAREER GUIDANCE AND PLACEMENT UNIT Placement O...</td>\n",
       "      <td>http://mgmits.ac.in/placement/contact/</td>\n",
       "      <td>210</td>\n",
       "    </tr>\n",
       "    <tr>\n",
       "      <th>14</th>\n",
       "      <td>STUDENT ACTIVITY CENTRE ‘Student Activity Cent...</td>\n",
       "      <td>http://mgmits.ac.in/infrastructure/students-ac...</td>\n",
       "      <td>203</td>\n",
       "    </tr>\n",
       "    <tr>\n",
       "      <th>20</th>\n",
       "      <td>Georjoice Riju of S1 AI&amp;DS qualified to APJAKT...</td>\n",
       "      <td>http://mgmits.ac.in/news-general/georjoice-rij...</td>\n",
       "      <td>203</td>\n",
       "    </tr>\n",
       "    <tr>\n",
       "      <th>9</th>\n",
       "      <td>ATM FACILITY Free ATM transactions to all A/c ...</td>\n",
       "      <td>http://mgmits.ac.in/infrastructure/atm/</td>\n",
       "      <td>189</td>\n",
       "    </tr>\n",
       "    <tr>\n",
       "      <th>19</th>\n",
       "      <td>ARAVAM 2021 organized by the Student Council w...</td>\n",
       "      <td>http://mgmits.ac.in/news-general/aravam-2021-o...</td>\n",
       "      <td>178</td>\n",
       "    </tr>\n",
       "  </tbody>\n",
       "</table>\n",
       "<p>70 rows × 3 columns</p>\n",
       "</div>"
      ],
      "text/plain": [
       "                                                 data  \\\n",
       "50  FACULTY & STUDENT PUBLICATIONS Chikku Abraham,...   \n",
       "35  “Cyber Forensic and Ethical hacking tools work...   \n",
       "48  UPDATES Selected papers of ICSCC 2021 will be ...   \n",
       "62  DEPARTMENT OF Electronics and Communication De...   \n",
       "65  DEPARTMENT OF Computer Science and Engineering...   \n",
       "..                                                ...   \n",
       "56  CAREER GUIDANCE AND PLACEMENT UNIT Placement O...   \n",
       "14  STUDENT ACTIVITY CENTRE ‘Student Activity Cent...   \n",
       "20  Georjoice Riju of S1 AI&DS qualified to APJAKT...   \n",
       "9   ATM FACILITY Free ATM transactions to all A/c ...   \n",
       "19  ARAVAM 2021 organized by the Student Council w...   \n",
       "\n",
       "                                                  url   leng  \n",
       "50  http://mgmits.ac.in/research/faculty-and-stude...  59512  \n",
       "35                   http://mgmits.ac.in/news-events/  39444  \n",
       "48                    http://mgmits.ac.in/icscc-2020/  21128  \n",
       "62  http://mgmits.ac.in/departments/electronics-an...  19086  \n",
       "65  http://mgmits.ac.in/departments/computer-scien...  10744  \n",
       "..                                                ...    ...  \n",
       "56             http://mgmits.ac.in/placement/contact/    210  \n",
       "14  http://mgmits.ac.in/infrastructure/students-ac...    203  \n",
       "20  http://mgmits.ac.in/news-general/georjoice-rij...    203  \n",
       "9             http://mgmits.ac.in/infrastructure/atm/    189  \n",
       "19  http://mgmits.ac.in/news-general/aravam-2021-o...    178  \n",
       "\n",
       "[70 rows x 3 columns]"
      ]
     },
     "execution_count": 23,
     "metadata": {},
     "output_type": "execute_result"
    }
   ],
   "source": [
    "# data[data.leng < 40]\n",
    "data.head(70)"
   ]
  },
  {
   "cell_type": "code",
   "execution_count": null,
   "id": "c593e294-7dd5-4df0-9287-cf926f74efc1",
   "metadata": {},
   "outputs": [],
   "source": []
  }
 ],
 "metadata": {
  "kernelspec": {
   "display_name": "default:Python",
   "language": "python",
   "name": "conda-env-default-py"
  },
  "language_info": {
   "codemirror_mode": {
    "name": "ipython",
    "version": 3
   },
   "file_extension": ".py",
   "mimetype": "text/x-python",
   "name": "python",
   "nbconvert_exporter": "python",
   "pygments_lexer": "ipython3",
   "version": "3.9.7"
  }
 },
 "nbformat": 4,
 "nbformat_minor": 5
}
