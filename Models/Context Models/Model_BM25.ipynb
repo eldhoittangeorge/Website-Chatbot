{
 "cells": [
  {
   "cell_type": "code",
   "execution_count": 114,
   "metadata": {},
   "outputs": [],
   "source": [
    "from haystack.nodes import FARMReader\n",
    "from haystack.document_stores import FAISSDocumentStore, ElasticsearchDocumentStore\n",
    "from haystack.pipelines import ExtractiveQAPipeline\n",
    "from pymongo import MongoClient\n",
    "from haystack.schema import Document\n",
    "from haystack.utils import print_answers\n",
    "from haystack.nodes import BM25Retriever, PreProcessor\n",
    "import pandas as pd\n",
    "from sentence_transformers import SentenceTransformer, util, CrossEncoder\n",
    "import numpy as np\n",
    "\n",
    "from transformers import AutoModelForQuestionAnswering, AutoTokenizer, pipeline"
   ]
  },
  {
   "cell_type": "code",
   "execution_count": 4,
   "metadata": {},
   "outputs": [],
   "source": [
    "db_client = MongoClient(host=\"localhost\", port=27017)\n",
    "database = db_client[\"Website_Chatbot\"]\n",
    "collection = database[\"MitsSpider\"]"
   ]
  },
  {
   "cell_type": "code",
   "execution_count": 91,
   "metadata": {},
   "outputs": [
    {
     "name": "stderr",
     "output_type": "stream",
     "text": [
      "C:\\Users\\ANT-PC\\AppData\\Local\\Temp\\ipykernel_13820\\1427879221.py:23: DeprecationWarning: Using a single Document as argument to the 'documents' parameter is deprecated. Use a list of (a single) Document instead.\n",
      "  docs += (text_processor.process(tmp_doc))\n"
     ]
    }
   ],
   "source": [
    "docs = [] \n",
    "\n",
    "text_processor = PreProcessor(\n",
    "    split_by=\"sentence\",\n",
    "    split_length=3,\n",
    "    split_respect_sentence_boundary=False,\n",
    "    # split_overlap=25\n",
    ")\n",
    "\n",
    "for document in collection.find({}):\n",
    "    content = document[\"content\"]\n",
    "    for para in content.split(\"\\n\\n\"):\n",
    "        if not para.strip():\n",
    "            continue\n",
    "        \n",
    "\n",
    "\n",
    "        tmp_doc = Document(content=para)\n",
    "        tmp_doc.id = str(document[\"_id\"])\n",
    "        tmp_doc.meta = {\"source\":document['source'], }\n",
    "        tmp_doc.content_type = \"str\"\n",
    "\n",
    "        docs += (text_processor.process(tmp_doc))\n",
    "\n"
   ]
  },
  {
   "cell_type": "code",
   "execution_count": 93,
   "metadata": {},
   "outputs": [
    {
     "data": {
      "text/plain": [
       "710"
      ]
     },
     "execution_count": 93,
     "metadata": {},
     "output_type": "execute_result"
    }
   ],
   "source": [
    "len(docs)\n",
    "# docs[0]"
   ]
  },
  {
   "cell_type": "code",
   "execution_count": 94,
   "metadata": {},
   "outputs": [],
   "source": [
    "content_list = [doc.content for doc in docs]\n",
    "source_list = [doc.meta['source'] for doc in docs]\n",
    "\n",
    "doc_df = pd.DataFrame({'content':content_list, 'source':source_list}, index=None)"
   ]
  },
  {
   "cell_type": "code",
   "execution_count": 57,
   "metadata": {},
   "outputs": [],
   "source": [
    "model_name = \"deepset/roberta-base-squad2\"\n",
    "reader_model = AutoModelForQuestionAnswering.from_pretrained(model_name)\n",
    "reader_tokenizer = AutoTokenizer.from_pretrained(model_name)\n",
    "nlp = pipeline(\"question-answering\", model=reader_model, tokenizer=reader_tokenizer)"
   ]
  },
  {
   "cell_type": "code",
   "execution_count": 135,
   "metadata": {},
   "outputs": [],
   "source": [
    "retriever = SentenceTransformer('msmarco-distilbert-base-tas-b')\n",
    "# ranker = CrossEncoder('cross-encoder/ms-marco-MiniLM-L-6-v2')"
   ]
  },
  {
   "cell_type": "code",
   "execution_count": 136,
   "metadata": {},
   "outputs": [],
   "source": [
    "passage_emedding = retriever.encode(content_list)"
   ]
  },
  {
   "cell_type": "code",
   "execution_count": 145,
   "metadata": {},
   "outputs": [
    {
     "name": "stdout",
     "output_type": "stream",
     "text": [
      "{'score': 0.10398130863904953, 'start': 81, 'end': 93, 'answer': 'DrPriya C. V'}\n",
      "{'score': 0.29943349957466125, 'start': 83, 'end': 102, 'answer': 'Girish Balakrishnan'}\n",
      "{'score': 0.07784692943096161, 'start': 338, 'end': 356, 'answer': 'Ms.Dhanya Sudarsan'}\n",
      "{'score': 6.872298399684951e-05, 'start': 211, 'end': 229, 'answer': 'Dr. Mary Lissy P.N'}\n",
      "{'score': 0.4464295208454132, 'start': 98, 'end': 109, 'answer': 'Dr Raju C.K'}\n"
     ]
    }
   ],
   "source": [
    "query = \"who is the head of the department of  \"\n",
    "query_embedding = retriever.encode(query)\n",
    "similarity_score = util.semantic_search(query_embedding, passage_emedding, top_k=5)\n",
    "# sorted_list = np.argsort(similarity_score)\n",
    "# top_5 = sorted_list[0][-5:]\n",
    "cross_inp = [ content_list[hit['corpus_id']] for hit in similarity_score[0]]\n",
    "for doc in cross_inp:\n",
    "    qa_input = {\"question\": query, \"context\": doc}\n",
    "    print(nlp(qa_input))"
   ]
  }
 ],
 "metadata": {
  "kernelspec": {
   "display_name": "Python 3.8.11 ('ds')",
   "language": "python",
   "name": "python3"
  },
  "language_info": {
   "codemirror_mode": {
    "name": "ipython",
    "version": 3
   },
   "file_extension": ".py",
   "mimetype": "text/x-python",
   "name": "python",
   "nbconvert_exporter": "python",
   "pygments_lexer": "ipython3",
   "version": "3.8.11"
  },
  "orig_nbformat": 4,
  "vscode": {
   "interpreter": {
    "hash": "216b33ba287e42d2a87342f3b9e368cf1b71a9244e6603550934e59b39d7eb84"
   }
  }
 },
 "nbformat": 4,
 "nbformat_minor": 2
}
