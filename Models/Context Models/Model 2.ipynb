{
 "cells": [
  {
   "cell_type": "code",
   "execution_count": 1,
   "id": "5f4106f3-59eb-4bca-a2db-39dc9229aeeb",
   "metadata": {},
   "outputs": [
    {
     "name": "stderr",
     "output_type": "stream",
     "text": [
      "C:\\Users\\ANT-PC\\anaconda3\\envs\\ds\\lib\\site-packages\\torchaudio\\backend\\utils.py:67: UserWarning: No audio backend is available.\n",
      "  warnings.warn('No audio backend is available.')\n",
      "C:\\Users\\ANT-PC\\anaconda3\\envs\\ds\\lib\\site-packages\\ray\\autoscaler\\_private\\cli_logger.py:57: FutureWarning: Not all Ray CLI dependencies were found. In Ray 1.4+, the Ray CLI, autoscaler, and dashboard will only be usable via `pip install 'ray[default]'`. Please update your install command.\n",
      "  warnings.warn(\n"
     ]
    }
   ],
   "source": [
    "from haystack.utils import  convert_files_to_dicts, print_answers\n",
    "from haystack.nodes import FARMReadery\n",
    "from haystack.document_stores import FAISSDocumentStorey\n",
    "from haystack.nodes import DensePassageRetrievery\n",
    "from haystack.pipelines import ExtractiveQAPipeline"
   ]
  },
  {
   "cell_type": "code",
   "execution_count": 3,
   "id": "e653ab83-6aaa-4668-af5e-a3803b0c9f08",
   "metadata": {},
   "outputs": [],
   "source": [
    "document_store = FAISSDocumentStore.load(faiss_index_factory_str=\"Flat\")"
   ]
  },
  {
   "cell_type": "code",
   "execution_count": null,
   "id": "92bbba28-e9cc-4b39-abc4-f650336871cd",
   "metadata": {},
   "outputs": [],
   "source": [
    "# doc_dir = \"Data/article_txt_got\"\n",
    "# s3_url = \"https://s3.eu-central-1.amazonaws.com/deepset.ai-farm-qa/datasets/documents/wiki_gameofthrones_txt.zip\"\n",
    "# fetch_archive_from_http(url=s3_url, output_dir=doc_dir)"
   ]
  },
  {
   "cell_type": "code",
   "execution_count": null,
   "id": "49f3274c-9bcc-4b61-b8b5-e211d8052913",
   "metadata": {},
   "outputs": [],
   "source": [
    "doc_dir = \"../../Site Data/Data\"\n",
    "dicts = convert_files_to_dicts(dir_path=doc_dir,split_paragraphs=True)\n",
    "document_store.write_documents(dicts)"
   ]
  },
  {
   "cell_type": "code",
   "execution_count": null,
   "id": "1941e398-fc1c-4d7b-821f-d8d379b651bb",
   "metadata": {},
   "outputs": [],
   "source": [
    "retriever = DensePassageRetriever(document_store=document_store,\n",
    "                                 query_embedding_model='facebook/dpr-question_encoder-single-nq-base',\n",
    "                                 passage_embedding_model='facebook/dpr-ctx_encoder-single-nq-base',\n",
    "                                 max_seq_len_query=64,\n",
    "                                 max_seq_len_passage=256,\n",
    "                                 batch_size=16,\n",
    "                                 use_gpu=True,\n",
    "                                 embed_title=True,\n",
    "                                 use_fast_tokenizers=True)\n",
    "document_store.update_embeddings(retriever)"
   ]
  },
  {
   "cell_type": "code",
   "execution_count": null,
   "id": "2520b4d4-ff21-4f9c-a191-7229b2af50c3",
   "metadata": {},
   "outputs": [],
   "source": [
    "reader = FARMReader(model_name_or_path=\"deepset/roberta-base-squad2\", use_gpu=True)"
   ]
  },
  {
   "cell_type": "code",
   "execution_count": null,
   "id": "6cd7553e-be25-4404-9e39-9d031906c7ac",
   "metadata": {},
   "outputs": [],
   "source": [
    "pipeline = ExtractiveQAPipeline(reader, retriever)"
   ]
  },
  {
   "cell_type": "code",
   "execution_count": 22,
   "id": "f2c158d7-60fe-4a55-b538-297006471965",
   "metadata": {},
   "outputs": [
    {
     "name": "stderr",
     "output_type": "stream",
     "text": [
      "Inferencing Samples: 100%|██████████| 1/1 [00:12<00:00, 12.25s/ Batches]\n",
      "Inferencing Samples: 100%|██████████| 1/1 [00:00<00:00,  1.40 Batches/s]\n",
      "Inferencing Samples: 100%|██████████| 1/1 [00:00<00:00,  1.40 Batches/s]\n",
      "Inferencing Samples: 100%|██████████| 1/1 [00:00<00:00,  1.41 Batches/s]\n",
      "Inferencing Samples: 100%|██████████| 1/1 [00:00<00:00,  1.40 Batches/s]\n",
      "Inferencing Samples: 100%|██████████| 1/1 [00:00<00:00,  1.40 Batches/s]\n",
      "Inferencing Samples: 100%|██████████| 1/1 [00:05<00:00,  5.19s/ Batches]\n",
      "Inferencing Samples: 100%|██████████| 1/1 [00:10<00:00, 10.53s/ Batches]\n",
      "Inferencing Samples: 100%|██████████| 1/1 [00:01<00:00,  1.35s/ Batches]\n",
      "Inferencing Samples: 100%|██████████| 1/1 [00:00<00:00,  1.40 Batches/s]\n"
     ]
    }
   ],
   "source": [
    "prediction = pipeline.run(query=\"Where is mits located?\",\n",
    "                         params = {\"Retriever\":{\"top_k\":10}, \n",
    "                                  \"Reader\":{\"top_k\":10}})"
   ]
  },
  {
   "cell_type": "code",
   "execution_count": 23,
   "id": "56baff09-7411-4408-a768-2c42e8d97912",
   "metadata": {},
   "outputs": [
    {
     "name": "stdout",
     "output_type": "stream",
     "text": [
      "\n",
      "Query: Where is mits located?\n",
      "Answers:\n",
      "[   {   'answer': 'Ernakulam',\n",
      "        'context': 'ering (CSE) at the Muthoot Institute of Technology and '\n",
      "                   'Science (MITS), Ernakulam! As you glance through the '\n",
      "                   'faculty profile, I am sure that you will a'},\n",
      "    {   'answer': 'Puthencruz',\n",
      "        'context': 'Department profile Muthoot Institute of Technology and '\n",
      "                   'Science (MITS) Puthencruz was established in May 2013 and '\n",
      "                   'started its academic program in Augus'},\n",
      "    {   'answer': 'Kochi',\n",
      "        'context': 'pal Muthoot Institute of Technology & Science Varikoli '\n",
      "                   'P.O., Puthencruz, Kochi – 682308, Ernakulam District. Ph. '\n",
      "                   '0484 – 2732100, 2732111, 2733011 Fax:'},\n",
      "    {   'answer': 'Varikoli overlooking the Kochi-Madurai National Highway',\n",
      "        'context': '7 kms from the MITS Campus. MITS is situated at Varikoli '\n",
      "                   'overlooking the Kochi-Madurai National Highway about 5 kms '\n",
      "                   'from Thiruvankulam en-route to Kol'},\n",
      "    {   'answer': 'of',\n",
      "        'context': 'Centres of Excellence at MITS Our major recruiters'},\n",
      "    {   'answer': 'Mahatma Gandhi University',\n",
      "        'context': 'hile preparing them for their undergraduate examinations '\n",
      "                   'under Mahatma Gandhi University and APJ Abdul Kalam '\n",
      "                   'Technological University. It helps studen'},\n",
      "    {   'answer': 'Kochi',\n",
      "        'context': 'om your goal. Archana Venugopal (CSE 2015-19) Tata '\n",
      "                   'Consultancy Services, Kochi News & Events Congratulations '\n",
      "                   'to Krishnapriya S. of CSE 2018-2022 Batch'},\n",
      "    {   'answer': 'India',\n",
      "        'context': 'in MITS. I have been placed in the three leading IT '\n",
      "                   'service companies in India which includes TCS,Infosys and '\n",
      "                   'Cognizant.This was possible only because'},\n",
      "    {   'answer': 'among stones',\n",
      "        'context': 'ed to us by our amazing faculty. The EEE Dept of MITS is '\n",
      "                   'truly a gem among stones. Gallery News & Events '\n",
      "                   'Congratulations to Jerin P Joy and Sivakarthi'},\n",
      "    {   'answer': 'Kerala',\n",
      "        'context': 'lar Power plant. This is one of its kind in educational '\n",
      "                   'Institutions of Kerala and will provide first-hand '\n",
      "                   'experience to the students from the departm'}]\n"
     ]
    }
   ],
   "source": [
    "print_answers(prediction,details=\"minimum\")"
   ]
  },
  {
   "cell_type": "code",
   "execution_count": null,
   "id": "186a2a09",
   "metadata": {},
   "outputs": [],
   "source": [
    "#Saving the models\n",
    "retriever.save(\"context_model_retriever\")\n",
    "document_store.save(\"model\")\n",
    "# document_store.save(\"context_model_store.faiss\")\n",
    "\n",
    "doc_tmp = FAISSDocumentStore.load(\"model\")\n",
    "ret_tmp  = DensePassageRetriever.load(\"context_model_retriever\",doc_tmp)\n",
    "\n",
    "document_store.save(\"model\")\n",
    "doc_tmp = FAISSDocumentStore.load(\"model\")"
   ]
  },
  {
   "cell_type": "code",
   "execution_count": null,
   "id": "9ea79c39",
   "metadata": {},
   "outputs": [],
   "source": [
    "document_store = FAISSDocumentStore.load(\"model\")\n",
    "reader = FARMReader(model_name_or_path=\"roberta_base_squad2\", use_gpu=True, num_processes=0)\n",
    "retriever = DensePassageRetriever.load(\"context_model\", document_store)\n",
    "pipeline = ExtractiveQAPipeline(reader, retriever)"
   ]
  },
  {
   "cell_type": "code",
   "execution_count": 6,
   "id": "92397649",
   "metadata": {},
   "outputs": [
    {
     "name": "stderr",
     "output_type": "stream",
     "text": [
      "Inferencing Samples:   0%|          | 0/1 [00:00<?, ? Batches/s]C:\\Users\\ANT-PC\\anaconda3\\envs\\ds\\lib\\site-packages\\haystack\\modeling\\model\\prediction_head.py:462: UserWarning: __floordiv__ is deprecated, and its behavior will change in a future version of pytorch. It currently rounds toward 0 (like the 'trunc' function NOT 'floor'). This results in incorrect rounding for negative values. To keep the current behavior, use torch.div(a, b, rounding_mode='trunc'), or for actual floor division, use torch.div(a, b, rounding_mode='floor').\n",
      "  start_indices = flat_sorted_indices // max_seq_len\n",
      "Inferencing Samples: 100%|██████████| 1/1 [00:01<00:00,  1.42s/ Batches]\n"
     ]
    }
   ],
   "source": [
    "prediction = pipeline.run(\"Where is MITS located\")"
   ]
  },
  {
   "cell_type": "code",
   "execution_count": 31,
   "id": "bb1acdb0",
   "metadata": {},
   "outputs": [],
   "source": [
    "ans = prediction\n"
   ]
  },
  {
   "cell_type": "code",
   "execution_count": 34,
   "id": "95b4d0d3",
   "metadata": {},
   "outputs": [
    {
     "data": {
      "text/plain": [
       "'Where is MITS located'"
      ]
     },
     "execution_count": 34,
     "metadata": {},
     "output_type": "execute_result"
    }
   ],
   "source": [
    "ans[\"query\"]"
   ]
  },
  {
   "cell_type": "code",
   "execution_count": 17,
   "id": "bb04f9d5",
   "metadata": {},
   "outputs": [],
   "source": [
    "id = ans.document_id\n",
    "# document_store.get_all_documents"
   ]
  },
  {
   "cell_type": "code",
   "execution_count": 19,
   "id": "561ff6d4",
   "metadata": {},
   "outputs": [
    {
     "data": {
      "text/plain": [
       "{'name': 'mits_departments_computer-science-and-engineering_.txt',\n",
       " 'vector_id': '68'}"
      ]
     },
     "execution_count": 19,
     "metadata": {},
     "output_type": "execute_result"
    }
   ],
   "source": [
    "document_store.get_document_by_id(id).meta"
   ]
  },
  {
   "cell_type": "code",
   "execution_count": 29,
   "id": "79743245",
   "metadata": {},
   "outputs": [
    {
     "data": {
      "text/plain": [
       "[{'documnet_link': 'mits_departments_computer-science-and-engineering_.txt',\n",
       "  'result': 'Ernakulam',\n",
       "  'context': 'ering (CSE) at the Muthoot Institute of Technology and Science (MITS), Ernakulam! As you glance through the faculty profile, I am sure that you will a'},\n",
       " {'documnet_link': 'mits_contact-us_.txt',\n",
       "  'result': 'Varikoli',\n",
       "  'context': ' approximately 8 kms &17 kms from the MITS Campus. MITS is situated at Varikoli overlooking the Kochi-Madurai National Highway about 5 kms from Thiruv'},\n",
       " {'documnet_link': 'mits_departments_computer-science-and-engineering_.txt',\n",
       "  'result': 'Muthoot Institute of Technology and Science (MITS) Puthencruz',\n",
       "  'context': 'r Science and Engineering Department profile Muthoot Institute of Technology and Science (MITS) Puthencruz was established in May 2013 and started its'},\n",
       " {'documnet_link': 'mits_admission_contact_.txt',\n",
       "  'result': 'Puthencruz, Kochi',\n",
       "  'context': 'Principal Muthoot Institute of Technology & Science Varikoli P.O., Puthencruz, Kochi – 682308, Ernakulam District. Ph. 0484 – 2732100, 2732111, 273301'},\n",
       " {'documnet_link': 'mits_departments_electrical-and-electronics_.txt',\n",
       "  'result': 'India',\n",
       "  'context': 'in MITS. I have been placed in the three leading IT service companies in India which includes TCS,Infosys and Cognizant.This was possible only because'},\n",
       " {'documnet_link': 'mits_infrastructure_conference-and-seminar-halls_.txt',\n",
       "  'result': 'The College at present has two auditoriums. MITS campus',\n",
       "  'context': 'AUDITORIUM & SEMINAR HALLS The College at present has two auditoriums. MITS campus has one fully fledged Seminar Hall and separate department seminar '},\n",
       " {'documnet_link': 'mits_departments_basic-science-and-humanities_.txt',\n",
       "  'result': 'Mahatma Gandhi University and APJ Abdul Kalam Technological University',\n",
       "  'context': ' their undergraduate examinations under Mahatma Gandhi University and APJ Abdul Kalam Technological University. It helps students to develop a new out'},\n",
       " {'documnet_link': 'mits_departments_computer-science-and-engineering_.txt',\n",
       "  'result': 'Being a part of an emerging and relatively new institute',\n",
       "  'context': ' are from diverse streams and specializations. Being a part of an emerging and relatively new institute, together with extremely competent research fa'},\n",
       " {'documnet_link': 'mits_departments_electrical-and-electronics_.txt',\n",
       "  'result': 'The EEE Dept of MITS is truly a gem among stones',\n",
       "  'context': 'nvironment presented to us by our amazing faculty. The EEE Dept of MITS is truly a gem among stones. Gallery News & Events Congratulations to Jerin P '},\n",
       " {'documnet_link': 'mits_departments_basic-science-and-humanities_.txt',\n",
       "  'result': 'Cambridge',\n",
       "  'context': 'aining in Business English Certification (BEC) program assessed by the Cambridge English Assessment. Gallery News & Events “Break the Chain” Campaign '}]"
      ]
     },
     "execution_count": 29,
     "metadata": {},
     "output_type": "execute_result"
    }
   ],
   "source": [
    "import json\n",
    "\n",
    "answers = []\n",
    "for answer in prediction[\"answers\"]:\n",
    "    tmp = dict() \n",
    "    tmp[\"documnet_link\"] = answer.meta[\"name\"] \n",
    "    tmp[\"result\"] = answer.answer\n",
    "    tmp[\"context\"] = answer.context\n",
    "    answers.append(tmp)\n",
    "\n",
    "answers\n",
    "\n"
   ]
  },
  {
   "cell_type": "code",
   "execution_count": 22,
   "id": "8b43b1a7",
   "metadata": {},
   "outputs": [
    {
     "data": {
      "text/plain": [
       "<Answer {'answer': 'Ernakulam', 'type': 'extractive', 'score': 0.9459921419620514, 'context': 'ering (CSE) at the Muthoot Institute of Technology and Science (MITS), Ernakulam! As you glance through the faculty profile, I am sure that you will a', 'offsets_in_document': [{'start': 2552, 'end': 2561}], 'offsets_in_context': [{'start': 71, 'end': 80}], 'document_id': 'd767f7197da2215466af2d02f5d2a858', 'meta': {'name': 'mits_departments_computer-science-and-engineering_.txt', 'vector_id': '68'}}>"
      ]
     },
     "execution_count": 22,
     "metadata": {},
     "output_type": "execute_result"
    }
   ],
   "source": [
    "ans"
   ]
  },
  {
   "cell_type": "code",
   "execution_count": null,
   "id": "b6b02b31",
   "metadata": {},
   "outputs": [],
   "source": []
  }
 ],
 "metadata": {
  "interpreter": {
   "hash": "ba8a2f979b76317ccf93e467e94d1dd25a4d448df8fe3a724a905e71adb08bc7"
  },
  "kernelspec": {
   "display_name": "default:Python",
   "language": "python",
   "name": "python3"
  },
  "language_info": {
   "codemirror_mode": {
    "name": "ipython",
    "version": 3
   },
   "file_extension": ".py",
   "mimetype": "text/x-python",
   "name": "python",
   "nbconvert_exporter": "python",
   "pygments_lexer": "ipython3",
   "version": "3.8.11"
  }
 },
 "nbformat": 4,
 "nbformat_minor": 5
}
