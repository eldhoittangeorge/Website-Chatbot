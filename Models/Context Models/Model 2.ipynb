{
 "cells": [
  {
   "cell_type": "code",
   "execution_count": 35,
   "id": "5f4106f3-59eb-4bca-a2db-39dc9229aeeb",
   "metadata": {},
   "outputs": [],
   "source": [
    "from haystack.utils import clean_wiki_text, convert_files_to_dicts, fetch_archive_from_http, print_answers\n",
    "from haystack.nodes import FARMReader, TransformersReader\n",
    "from haystack.document_stores import FAISSDocumentStore\n",
    "from haystack.nodes import DensePassageRetriever\n",
    "from haystack.pipelines import ExtractiveQAPipeline"
   ]
  },
  {
   "cell_type": "code",
   "execution_count": 24,
   "id": "e653ab83-6aaa-4668-af5e-a3803b0c9f08",
   "metadata": {},
   "outputs": [],
   "source": [
    "document_store = FAISSDocumentStore(faiss_index_factory_str=\"Flat\")"
   ]
  },
  {
   "cell_type": "code",
   "execution_count": null,
   "id": "92bbba28-e9cc-4b39-abc4-f650336871cd",
   "metadata": {},
   "outputs": [],
   "source": [
    "# doc_dir = \"Data/article_txt_got\"\n",
    "# s3_url = \"https://s3.eu-central-1.amazonaws.com/deepset.ai-farm-qa/datasets/documents/wiki_gameofthrones_txt.zip\"\n",
    "# fetch_archive_from_http(url=s3_url, output_dir=doc_dir)"
   ]
  },
  {
   "cell_type": "code",
   "execution_count": null,
   "id": "49f3274c-9bcc-4b61-b8b5-e211d8052913",
   "metadata": {},
   "outputs": [],
   "source": [
    "dicts = convert_files_to_dicts(dir_path=doc_dir,clean_func=clean_wiki_text,split_paragraphs=True)\n",
    "document_store.write_documents(dicts)"
   ]
  },
  {
   "cell_type": "code",
   "execution_count": null,
   "id": "1941e398-fc1c-4d7b-821f-d8d379b651bb",
   "metadata": {},
   "outputs": [],
   "source": [
    "retriever = DensePassageRetriever(document_store=document_store,\n",
    "                                 query_embedding_model='facebook/dpr-question_encoder-single-nq-base',\n",
    "                                 passage_embedding_model='facebook/dpr-ctx_encoder-single-nq-base',\n",
    "                                 max_seq_len_query=64,\n",
    "                                 max_seq_len_passage=256,\n",
    "                                 batch_size=16,\n",
    "                                 use_gpu=True,\n",
    "                                 embed_title=True,\n",
    "                                 use_fast_tokenizers=True)\n",
    "document_store.update_embeddings(retriever)"
   ]
  },
  {
   "cell_type": "code",
   "execution_count": null,
   "id": "2520b4d4-ff21-4f9c-a191-7229b2af50c3",
   "metadata": {},
   "outputs": [],
   "source": [
    "reader = FARMReader(model_name_or_path=\"deepset/roberta-base-squad2\", use_gpu=True)"
   ]
  },
  {
   "cell_type": "code",
   "execution_count": 36,
   "id": "6cd7553e-be25-4404-9e39-9d031906c7ac",
   "metadata": {},
   "outputs": [],
   "source": [
    "pipeline = ExtractiveQAPipeline(reader, retriever)"
   ]
  },
  {
   "cell_type": "code",
   "execution_count": 37,
   "id": "f2c158d7-60fe-4a55-b538-297006471965",
   "metadata": {},
   "outputs": [
    {
     "name": "stderr",
     "output_type": "stream",
     "text": [
      "Inferencing Samples:   0%|          | 0/1 [00:00<?, ? Batches/s]/home/studio-lab-user/.conda/envs/default/lib/python3.9/site-packages/haystack/modeling/model/prediction_head.py:462: UserWarning: __floordiv__ is deprecated, and its behavior will change in a future version of pytorch. It currently rounds toward 0 (like the 'trunc' function NOT 'floor'). This results in incorrect rounding for negative values. To keep the current behavior, use torch.div(a, b, rounding_mode='trunc'), or for actual floor division, use torch.div(a, b, rounding_mode='floor').\n",
      "  start_indices = flat_sorted_indices // max_seq_len\n",
      "Inferencing Samples: 100%|██████████| 1/1 [00:00<00:00,  1.58 Batches/s]\n",
      "Inferencing Samples: 100%|██████████| 1/1 [00:00<00:00,  4.86 Batches/s]\n",
      "Inferencing Samples: 100%|██████████| 1/1 [00:00<00:00,  4.83 Batches/s]\n",
      "Inferencing Samples: 100%|██████████| 1/1 [00:00<00:00,  4.99 Batches/s]\n",
      "Inferencing Samples: 100%|██████████| 1/1 [00:00<00:00,  4.84 Batches/s]\n",
      "Inferencing Samples: 100%|██████████| 1/1 [00:00<00:00,  4.77 Batches/s]\n",
      "Inferencing Samples: 100%|██████████| 1/1 [00:00<00:00,  4.89 Batches/s]\n",
      "Inferencing Samples: 100%|██████████| 1/1 [00:00<00:00,  5.01 Batches/s]\n",
      "Inferencing Samples: 100%|██████████| 1/1 [00:00<00:00,  4.95 Batches/s]\n",
      "Inferencing Samples: 100%|██████████| 1/1 [00:00<00:00,  4.97 Batches/s]\n"
     ]
    }
   ],
   "source": [
    "prediction = pipeline.run(query=\"Who created the Dothraki vocabulary?\",\n",
    "                         params = {\"Retriever\":{\"top_k\":10}, \n",
    "                                  \"Reader\":{\"top_k\":2}})"
   ]
  },
  {
   "cell_type": "code",
   "execution_count": 39,
   "id": "56baff09-7411-4408-a768-2c42e8d97912",
   "metadata": {},
   "outputs": [
    {
     "name": "stdout",
     "output_type": "stream",
     "text": [
      "\n",
      "Query: Who created the Dothraki vocabulary?\n",
      "Answers:\n",
      "[   {   'answer': 'David J. Peterson',\n",
      "        'context': 'orld. The language was developed for the TV series by the '\n",
      "                   'linguist David J. Peterson, working off the Dothraki words '\n",
      "                   \"and phrases in Martin's novels.\\n\"\n",
      "                   ','},\n",
      "    {   'answer': 'David J. Peterson',\n",
      "        'context': '\\n'\n",
      "                   '===Valyrian===\\n'\n",
      "                   'David J. Peterson, who created the Dothraki language for '\n",
      "                   'the first season of the show, was entrusted by the '\n",
      "                   'producers to design a new '}]\n"
     ]
    }
   ],
   "source": [
    "print_answers(prediction,details=\"minimum\")"
   ]
  }
 ],
 "metadata": {
  "kernelspec": {
   "display_name": "default:Python",
   "language": "python",
   "name": "conda-env-default-py"
  },
  "language_info": {
   "codemirror_mode": {
    "name": "ipython",
    "version": 3
   },
   "file_extension": ".py",
   "mimetype": "text/x-python",
   "name": "python",
   "nbconvert_exporter": "python",
   "pygments_lexer": "ipython3",
   "version": "3.9.7"
  }
 },
 "nbformat": 4,
 "nbformat_minor": 5
}
