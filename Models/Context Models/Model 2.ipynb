{
 "cells": [
  {
   "cell_type": "code",
   "execution_count": null,
   "id": "5f4106f3-59eb-4bca-a2db-39dc9229aeeb",
   "metadata": {},
   "outputs": [],
   "source": [
    "from haystack.utils import  convert_files_to_dicts, print_answers\n",
    "from haystack.nodes import FARMReader\n",
    "from haystack.document_stores import FAISSDocumentStore\n",
    "from haystack.nodes import DensePassageRetriever\n",
    "from haystack.pipelines import ExtractiveQAPipeline"
   ]
  },
  {
   "cell_type": "code",
   "execution_count": null,
   "id": "e653ab83-6aaa-4668-af5e-a3803b0c9f08",
   "metadata": {},
   "outputs": [],
   "source": [
    "document_store = FAISSDocumentStore(faiss_index_factory_str=\"Flat\")"
   ]
  },
  {
   "cell_type": "code",
   "execution_count": null,
   "id": "92bbba28-e9cc-4b39-abc4-f650336871cd",
   "metadata": {},
   "outputs": [],
   "source": [
    "# doc_dir = \"Data/article_txt_got\"\n",
    "# s3_url = \"https://s3.eu-central-1.amazonaws.com/deepset.ai-farm-qa/datasets/documents/wiki_gameofthrones_txt.zip\"\n",
    "# fetch_archive_from_http(url=s3_url, output_dir=doc_dir)"
   ]
  },
  {
   "cell_type": "code",
   "execution_count": null,
   "id": "49f3274c-9bcc-4b61-b8b5-e211d8052913",
   "metadata": {},
   "outputs": [],
   "source": [
    "doc_dir = \"../../Site Data/Data\"\n",
    "dicts = convert_files_to_dicts(dir_path=doc_dir,split_paragraphs=True)\n",
    "document_store.write_documents(dicts)"
   ]
  },
  {
   "cell_type": "code",
   "execution_count": null,
   "id": "1941e398-fc1c-4d7b-821f-d8d379b651bb",
   "metadata": {},
   "outputs": [],
   "source": [
    "retriever = DensePassageRetriever(document_store=document_store,\n",
    "                                 query_embedding_model='facebook/dpr-question_encoder-single-nq-base',\n",
    "                                 passage_embedding_model='facebook/dpr-ctx_encoder-single-nq-base',\n",
    "                                 max_seq_len_query=64,\n",
    "                                 max_seq_len_passage=256,\n",
    "                                 batch_size=16,\n",
    "                                 use_gpu=True,\n",
    "                                 embed_title=True,\n",
    "                                 use_fast_tokenizers=True)\n",
    "document_store.update_embeddings(retriever)"
   ]
  },
  {
   "cell_type": "code",
   "execution_count": null,
   "id": "2520b4d4-ff21-4f9c-a191-7229b2af50c3",
   "metadata": {},
   "outputs": [],
   "source": [
    "reader = FARMReader(model_name_or_path=\"deepset/roberta-large-squad2\", use_gpu=True)"
   ]
  },
  {
   "cell_type": "code",
   "execution_count": null,
   "id": "6cd7553e-be25-4404-9e39-9d031906c7ac",
   "metadata": {},
   "outputs": [],
   "source": [
    "pipeline = ExtractiveQAPipeline(reader, retriever)"
   ]
  },
  {
   "cell_type": "code",
   "execution_count": 22,
   "id": "f2c158d7-60fe-4a55-b538-297006471965",
   "metadata": {},
   "outputs": [
    {
     "name": "stderr",
     "output_type": "stream",
     "text": [
      "Inferencing Samples: 100%|██████████| 1/1 [00:12<00:00, 12.25s/ Batches]\n",
      "Inferencing Samples: 100%|██████████| 1/1 [00:00<00:00,  1.40 Batches/s]\n",
      "Inferencing Samples: 100%|██████████| 1/1 [00:00<00:00,  1.40 Batches/s]\n",
      "Inferencing Samples: 100%|██████████| 1/1 [00:00<00:00,  1.41 Batches/s]\n",
      "Inferencing Samples: 100%|██████████| 1/1 [00:00<00:00,  1.40 Batches/s]\n",
      "Inferencing Samples: 100%|██████████| 1/1 [00:00<00:00,  1.40 Batches/s]\n",
      "Inferencing Samples: 100%|██████████| 1/1 [00:05<00:00,  5.19s/ Batches]\n",
      "Inferencing Samples: 100%|██████████| 1/1 [00:10<00:00, 10.53s/ Batches]\n",
      "Inferencing Samples: 100%|██████████| 1/1 [00:01<00:00,  1.35s/ Batches]\n",
      "Inferencing Samples: 100%|██████████| 1/1 [00:00<00:00,  1.40 Batches/s]\n"
     ]
    }
   ],
   "source": [
    "prediction = pipeline.run(query=\"Where is mits located?\",\n",
    "                         params = {\"Retriever\":{\"top_k\":10}, \n",
    "                                  \"Reader\":{\"top_k\":10}})"
   ]
  },
  {
   "cell_type": "code",
   "execution_count": 23,
   "id": "56baff09-7411-4408-a768-2c42e8d97912",
   "metadata": {},
   "outputs": [
    {
     "name": "stdout",
     "output_type": "stream",
     "text": [
      "\n",
      "Query: Where is mits located?\n",
      "Answers:\n",
      "[   {   'answer': 'Ernakulam',\n",
      "        'context': 'ering (CSE) at the Muthoot Institute of Technology and '\n",
      "                   'Science (MITS), Ernakulam! As you glance through the '\n",
      "                   'faculty profile, I am sure that you will a'},\n",
      "    {   'answer': 'Puthencruz',\n",
      "        'context': 'Department profile Muthoot Institute of Technology and '\n",
      "                   'Science (MITS) Puthencruz was established in May 2013 and '\n",
      "                   'started its academic program in Augus'},\n",
      "    {   'answer': 'Kochi',\n",
      "        'context': 'pal Muthoot Institute of Technology & Science Varikoli '\n",
      "                   'P.O., Puthencruz, Kochi – 682308, Ernakulam District. Ph. '\n",
      "                   '0484 – 2732100, 2732111, 2733011 Fax:'},\n",
      "    {   'answer': 'Varikoli overlooking the Kochi-Madurai National Highway',\n",
      "        'context': '7 kms from the MITS Campus. MITS is situated at Varikoli '\n",
      "                   'overlooking the Kochi-Madurai National Highway about 5 kms '\n",
      "                   'from Thiruvankulam en-route to Kol'},\n",
      "    {   'answer': 'of',\n",
      "        'context': 'Centres of Excellence at MITS Our major recruiters'},\n",
      "    {   'answer': 'Mahatma Gandhi University',\n",
      "        'context': 'hile preparing them for their undergraduate examinations '\n",
      "                   'under Mahatma Gandhi University and APJ Abdul Kalam '\n",
      "                   'Technological University. It helps studen'},\n",
      "    {   'answer': 'Kochi',\n",
      "        'context': 'om your goal. Archana Venugopal (CSE 2015-19) Tata '\n",
      "                   'Consultancy Services, Kochi News & Events Congratulations '\n",
      "                   'to Krishnapriya S. of CSE 2018-2022 Batch'},\n",
      "    {   'answer': 'India',\n",
      "        'context': 'in MITS. I have been placed in the three leading IT '\n",
      "                   'service companies in India which includes TCS,Infosys and '\n",
      "                   'Cognizant.This was possible only because'},\n",
      "    {   'answer': 'among stones',\n",
      "        'context': 'ed to us by our amazing faculty. The EEE Dept of MITS is '\n",
      "                   'truly a gem among stones. Gallery News & Events '\n",
      "                   'Congratulations to Jerin P Joy and Sivakarthi'},\n",
      "    {   'answer': 'Kerala',\n",
      "        'context': 'lar Power plant. This is one of its kind in educational '\n",
      "                   'Institutions of Kerala and will provide first-hand '\n",
      "                   'experience to the students from the departm'}]\n"
     ]
    }
   ],
   "source": [
    "print_answers(prediction,details=\"minimum\")"
   ]
  }
 ],
 "metadata": {
  "kernelspec": {
   "display_name": "default:Python",
   "language": "python",
   "name": "conda-env-default-py"
  },
  "language_info": {
   "codemirror_mode": {
    "name": "ipython",
    "version": 3
   },
   "file_extension": ".py",
   "mimetype": "text/x-python",
   "name": "python",
   "nbconvert_exporter": "python",
   "pygments_lexer": "ipython3",
   "version": "3.9.9"
  }
 },
 "nbformat": 4,
 "nbformat_minor": 5
}
